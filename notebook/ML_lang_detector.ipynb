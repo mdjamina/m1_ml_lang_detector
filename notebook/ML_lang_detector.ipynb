{
  "cells": [
    {
      "cell_type": "markdown",
      "metadata": {
        "colab_type": "text",
        "id": "view-in-github"
      },
      "source": [
        "<a href=\"https://colab.research.google.com/github/mdjamina/m1_ml_lang_detector/blob/main/ML_lang_detector.ipynb\" target=\"_parent\"><img src=\"https://colab.research.google.com/assets/colab-badge.svg\" alt=\"Open In Colab\"/></a>"
      ]
    },
    {
      "cell_type": "markdown",
      "metadata": {
        "id": "wsWqzNezu3vU"
      },
      "source": [
        "# Corpus\n",
        "[Tatoeba](https://tatoeba.org/fr/downloads\n",
        ") est une collection de phrases et de traductions."
      ]
    },
    {
      "cell_type": "markdown",
      "metadata": {
        "id": "L9dop-NpvqVh"
      },
      "source": [
        "Extraction de l'archive téléchargée "
      ]
    },
    {
      "cell_type": "code",
      "execution_count": 17,
      "metadata": {
        "colab": {
          "base_uri": "https://localhost:8080/"
        },
        "id": "vPzTKS9UWwNg",
        "outputId": "7463ffa9-86a4-4e1b-9cee-fe4ae678bab5"
      },
      "outputs": [
        {
          "name": "stdout",
          "output_type": "stream",
          "text": [
            "Archive:  ./data/data.zip\n",
            "warning [./data/data.zip]:  zipfile claims to be last disk of a multi-part archive;\n",
            "  attempting to process anyway, assuming all parts have been concatenated\n",
            "  together in order.  Expect \"errors\" and warnings...true multi-part support\n",
            "  doesn't exist yet (coming soon).\n",
            "file #1:  bad zipfile offset (local header sig):  4\n"
          ]
        }
      ],
      "source": [
        "!unzip ../data/data.zip"
      ]
    },
    {
      "cell_type": "markdown",
      "metadata": {
        "id": "G86sykMcXWUw"
      },
      "source": [
        "## Chargement du corpus"
      ]
    },
    {
      "cell_type": "code",
      "execution_count": 36,
      "metadata": {
        "colab": {
          "base_uri": "https://localhost:8080/",
          "height": 424
        },
        "id": "4oMo0Uvp0wek",
        "outputId": "23cbc4d2-b878-4e65-8a62-54b2304fca1c"
      },
      "outputs": [
        {
          "data": {
            "text/html": [
              "<div>\n",
              "<style scoped>\n",
              "    .dataframe tbody tr th:only-of-type {\n",
              "        vertical-align: middle;\n",
              "    }\n",
              "\n",
              "    .dataframe tbody tr th {\n",
              "        vertical-align: top;\n",
              "    }\n",
              "\n",
              "    .dataframe thead th {\n",
              "        text-align: right;\n",
              "    }\n",
              "</style>\n",
              "<table border=\"1\" class=\"dataframe\">\n",
              "  <thead>\n",
              "    <tr style=\"text-align: right;\">\n",
              "      <th></th>\n",
              "      <th>content</th>\n",
              "      <th>lang</th>\n",
              "    </tr>\n",
              "  </thead>\n",
              "  <tbody>\n",
              "    <tr>\n",
              "      <th>0</th>\n",
              "      <td>我們試試看！</td>\n",
              "      <td>zho</td>\n",
              "    </tr>\n",
              "    <tr>\n",
              "      <th>1</th>\n",
              "      <td>我该去睡觉了。</td>\n",
              "      <td>zho</td>\n",
              "    </tr>\n",
              "    <tr>\n",
              "      <th>2</th>\n",
              "      <td>你在干什麼啊？</td>\n",
              "      <td>zho</td>\n",
              "    </tr>\n",
              "    <tr>\n",
              "      <th>3</th>\n",
              "      <td>這是什麼啊？</td>\n",
              "      <td>zho</td>\n",
              "    </tr>\n",
              "    <tr>\n",
              "      <th>4</th>\n",
              "      <td>今天是６月１８号，也是Muiriel的生日！</td>\n",
              "      <td>zho</td>\n",
              "    </tr>\n",
              "    <tr>\n",
              "      <th>...</th>\n",
              "      <td>...</td>\n",
              "      <td>...</td>\n",
              "    </tr>\n",
              "    <tr>\n",
              "      <th>10262652</th>\n",
              "      <td>Utálom a melóm!</td>\n",
              "      <td>hun</td>\n",
              "    </tr>\n",
              "    <tr>\n",
              "      <th>10262653</th>\n",
              "      <td>Ich habe den Ersatzschlüssel verloren.</td>\n",
              "      <td>deu</td>\n",
              "    </tr>\n",
              "    <tr>\n",
              "      <th>10262654</th>\n",
              "      <td>Mibe' fogadjunk?</td>\n",
              "      <td>hun</td>\n",
              "    </tr>\n",
              "    <tr>\n",
              "      <th>10262655</th>\n",
              "      <td>Utálok itt lenni!</td>\n",
              "      <td>hun</td>\n",
              "    </tr>\n",
              "    <tr>\n",
              "      <th>10262656</th>\n",
              "      <td>I don't care about the household.</td>\n",
              "      <td>eng</td>\n",
              "    </tr>\n",
              "  </tbody>\n",
              "</table>\n",
              "<p>8961150 rows × 2 columns</p>\n",
              "</div>"
            ],
            "text/plain": [
              "                                         content lang\n",
              "0                                         我們試試看！  zho\n",
              "1                                        我该去睡觉了。  zho\n",
              "2                                        你在干什麼啊？  zho\n",
              "3                                         這是什麼啊？  zho\n",
              "4                         今天是６月１８号，也是Muiriel的生日！  zho\n",
              "...                                          ...  ...\n",
              "10262652                         Utálom a melóm!  hun\n",
              "10262653  Ich habe den Ersatzschlüssel verloren.  deu\n",
              "10262654                        Mibe' fogadjunk?  hun\n",
              "10262655                       Utálok itt lenni!  hun\n",
              "10262656       I don't care about the household.  eng\n",
              "\n",
              "[8961150 rows x 2 columns]"
            ]
          },
          "execution_count": 36,
          "metadata": {},
          "output_type": "execute_result"
        }
      ],
      "source": [
        "import pandas as pd\n",
        "\n",
        "\n",
        "data = pd.read_pickle(\"../data/data.pkl\") \n",
        "\n",
        "\n",
        "data.shape"
      ]
    },
    {
      "cell_type": "markdown",
      "metadata": {
        "id": "DIiE3aUbXarg"
      },
      "source": [
        "# pre-processing"
      ]
    },
    {
      "cell_type": "markdown",
      "metadata": {
        "id": "btFasJzVxuFv"
      },
      "source": [
        "## TODO"
      ]
    },
    {
      "cell_type": "markdown",
      "metadata": {
        "id": "zP19OAAt4iM0"
      },
      "source": []
    },
    {
      "cell_type": "code",
      "execution_count": 16,
      "metadata": {
        "id": "3WwvVw8Yrxqg"
      },
      "outputs": [],
      "source": [
        "from sklearn.model_selection import train_test_split \n",
        "\n",
        "x_train, x_test, y_train, y_test = train_test_split(data['content'], data['lang'], test_size=0.2, train_size=0.50, random_state=1) \n",
        "# ramdom_state = meme corpus (meme decoupage, decouper en 2 train et test le corpus, car on a besoin de faire les tests)"
      ]
    },
    {
      "cell_type": "code",
      "execution_count": null,
      "metadata": {
        "colab": {
          "base_uri": "https://localhost:8080/"
        },
        "id": "kJ16poLjqJ2Q",
        "outputId": "396fa427-1ccf-42e4-8bdc-18537563ab05"
      },
      "outputs": [],
      "source": [
        "y_train.value_counts()"
      ]
    },
    {
      "cell_type": "markdown",
      "metadata": {
        "id": "OHk7C7h8Xfok"
      },
      "source": [
        "# Model"
      ]
    },
    {
      "cell_type": "code",
      "execution_count": 4,
      "metadata": {},
      "outputs": [],
      "source": [
        "import re\n",
        "def ngram_2c(text):\n",
        "  #text = text.replace(' ','-')\n",
        "  return [re.sub('[ ]?','',i+j) for (i,j) in zip(*[text[i:] for i in range(2)])]\n",
        "  #ng = [re.sub('[ ]?','',i+j+k) for (i,j,k) in zip(*[text[i:] for i in range(3)])]\n",
        "  #ng = [i+j+k+m for (i,j,k,m) in zip(*[text[i:] for i in range(4)]) if j!=' ' or k!=' ']\n",
        "  #for (l,m) in zip(*[text[i:] for i in range(2)]):\n",
        "   # gram=remove_punctuation(l+m)\n",
        "\n",
        "\n",
        "\n",
        "def char_tokenizer(text):\n",
        "  \"\"\"Character Tokenization splits apiece of text \n",
        "  into a set of characters.\n",
        "  \"\"\"\n",
        "\n",
        "  return [c for c in text if c not in ' \\t\\n']\n",
        "\n"
      ]
    },
    {
      "cell_type": "code",
      "execution_count": null,
      "metadata": {},
      "outputs": [],
      "source": [
        "char_tokenizer('un test de text 그러나 주로 개인적인 용도로 이용되는 위키도 있는데, 이를 개인 위키라고 한다')"
      ]
    },
    {
      "cell_type": "code",
      "execution_count": 6,
      "metadata": {
        "id": "GmSw3tCJKvgB"
      },
      "outputs": [],
      "source": [
        "from joblib import Memory\n",
        "from shutil import rmtree\n",
        "\n",
        "# Create a temporary folder to store the transformers of the pipeline\n",
        "mem = Memory(location=\"/tmp/cachedir\", verbose=0)"
      ]
    },
    {
      "cell_type": "code",
      "execution_count": 38,
      "metadata": {},
      "outputs": [
        {
          "data": {
            "text/plain": [
              "(896115, 108154)"
            ]
          },
          "execution_count": 38,
          "metadata": {},
          "output_type": "execute_result"
        }
      ],
      "source": [
        "from sklearn.feature_extraction.text import CountVectorizer\n",
        "\n",
        "count_vect = CountVectorizer(tokenizer=to_char, ngram_range=(1,2))\n",
        "\n",
        "x_train_counts = count_vect.fit_transform(x_train)\n",
        "x_train_counts.shape"
      ]
    },
    {
      "cell_type": "code",
      "execution_count": null,
      "metadata": {},
      "outputs": [],
      "source": [
        "x_train_counts\n",
        "#278559"
      ]
    },
    {
      "cell_type": "code",
      "execution_count": 17,
      "metadata": {
        "colab": {
          "base_uri": "https://localhost:8080/"
        },
        "id": "MoSM-Nu4VxL3",
        "outputId": "10cdea09-4eb4-4a8a-c09e-9d503a1638da"
      },
      "outputs": [
        {
          "name": "stdout",
          "output_type": "stream",
          "text": [
            "[Pipeline] ... (step 1 of 2) Processing TfidfVectorizer, total= 1.4min\n"
          ]
        },
        {
          "name": "stderr",
          "output_type": "stream",
          "text": [
            "/home/amina/.local/lib/python3.9/site-packages/sklearn/pipeline.py:348: UserWarning: Persisting input arguments took 16.57s to run.\n",
            "If this happens often in your code, it can cause performance problems \n",
            "(results will be correct in all cases). \n",
            "The reason for this is probably some large input arguments for a wrapped\n",
            " function (e.g. large strings).\n",
            "THIS IS A JOBLIB ISSUE. If you can, kindly provide the joblib's team with an\n",
            " example so that they can fix the problem.\n",
            "  X, fitted_transformer = fit_transform_one_cached(\n"
          ]
        },
        {
          "name": "stdout",
          "output_type": "stream",
          "text": [
            "[Pipeline] ......... (step 2 of 2) Processing LinearSVC, total= 8.5min\n"
          ]
        },
        {
          "data": {
            "text/plain": [
              "Pipeline(memory=Memory(location=/tmp/cachedir/joblib),\n",
              "         steps=[('TfidfVectorizer',\n",
              "                 TfidfVectorizer(ngram_range=(1, 2),\n",
              "                                 tokenizer=<function char_tokenizer at 0x7fc8fe94b280>)),\n",
              "                ('LinearSVC', LinearSVC())],\n",
              "         verbose=True)"
            ]
          },
          "execution_count": 17,
          "metadata": {},
          "output_type": "execute_result"
        }
      ],
      "source": [
        "from sklearn.pipeline import Pipeline\n",
        "from sklearn.svm import LinearSVC\n",
        "from sklearn.feature_extraction.text import TfidfVectorizer\n",
        "\n",
        "model = Pipeline([('TfidfVectorizer', TfidfVectorizer(tokenizer=char_tokenizer, ngram_range=(1,2),)),\n",
        "                     ('LinearSVC', LinearSVC()),],verbose=True,memory=mem)\n",
        "\n",
        "\n",
        "model.fit(x_train, y_train)  \n",
        "\n",
        "\n"
      ]
    },
    {
      "cell_type": "code",
      "execution_count": 18,
      "metadata": {},
      "outputs": [
        {
          "data": {
            "text/plain": [
              "(242149,)"
            ]
          },
          "execution_count": 18,
          "metadata": {},
          "output_type": "execute_result"
        }
      ],
      "source": [
        "model[0].get_feature_names_out().shape"
      ]
    },
    {
      "cell_type": "code",
      "execution_count": 19,
      "metadata": {
        "id": "2Yt5OcI1Y2zy"
      },
      "outputs": [],
      "source": [
        "predictions = model.predict(x_test)"
      ]
    },
    {
      "cell_type": "code",
      "execution_count": 7,
      "metadata": {
        "id": "4uJplem8Wket"
      },
      "outputs": [
        {
          "name": "stdout",
          "output_type": "stream",
          "text": [
            "[[ 13733     11      0 ...      0      0      0]\n",
            " [     0 160373      0 ...      0      0      0]\n",
            " [     0      0   5154 ...    277      0      0]\n",
            " ...\n",
            " [     0      0     66 ...  53881      0      0]\n",
            " [     0      1      0 ...      0   6901      0]\n",
            " [     0      0      0 ...      0      0  28047]]\n"
          ]
        }
      ],
      "source": [
        "from sklearn import metrics\n",
        "print(metrics.confusion_matrix(y_test,predictions))"
      ]
    },
    {
      "cell_type": "code",
      "execution_count": 23,
      "metadata": {
        "colab": {
          "base_uri": "https://localhost:8080/"
        },
        "id": "ylR3yrFlW0ks",
        "outputId": "06dbd96f-5e3c-4b90-af36-40963a94f1bd"
      },
      "outputs": [
        {
          "name": "stdout",
          "output_type": "stream",
          "text": [
            "              precision    recall  f1-score   support\n",
            "\n",
            "         ara       1.00      0.99      0.99      8335\n",
            "         ber       0.81      0.82      0.81    118364\n",
            "         bul       0.92      0.68      0.78      4828\n",
            "         ces       0.94      0.95      0.95     12616\n",
            "         dan       0.82      0.84      0.83     10837\n",
            "         deu       0.98      0.98      0.98    115912\n",
            "         ell       1.00      1.00      1.00      6972\n",
            "         eng       0.98      0.99      0.99    314597\n",
            "         est       0.92      0.55      0.69       769\n",
            "         fas       0.99      0.99      0.99      4975\n",
            "         fin       0.98      0.97      0.97     27681\n",
            "         fra       0.98      0.97      0.97     99984\n",
            "         gle       0.98      0.89      0.93       533\n",
            "         hbs       0.91      0.83      0.87     10239\n",
            "         heb       1.00      1.00      1.00     39775\n",
            "         hin       1.00      1.00      1.00      2861\n",
            "         hun       0.99      0.99      0.99     70925\n",
            "         hye       0.97      1.00      0.99       439\n",
            "         ita       0.96      0.98      0.97    160592\n",
            "         jpn       1.00      1.00      1.00     43815\n",
            "         kab       0.79      0.77      0.78    102517\n",
            "         kor       1.00      1.00      1.00      1801\n",
            "         lat       0.89      0.81      0.85      8293\n",
            "         lav       0.96      0.93      0.94       636\n",
            "         mkd       0.87      0.90      0.89     15504\n",
            "         nld       0.96      0.92      0.94     31049\n",
            "         nor       0.78      0.39      0.52      3237\n",
            "         pol       0.99      0.99      0.99     23346\n",
            "         por       0.96      0.94      0.95     78694\n",
            "         ron       0.98      0.89      0.93      5368\n",
            "         rus       0.97      0.99      0.98    179730\n",
            "         slk       0.91      0.70      0.79      3328\n",
            "         spa       0.95      0.94      0.94     73524\n",
            "         swa       0.85      0.49      0.62       129\n",
            "         swe       0.92      0.89      0.91      9278\n",
            "         tha       0.71      1.00      0.83       924\n",
            "         tur       0.99      0.99      0.99    143191\n",
            "         ukr       0.97      0.93      0.95     35302\n",
            "         vie       1.00      1.00      1.00      4207\n",
            "         zho       1.00      1.00      1.00     17123\n",
            "\n",
            "    accuracy                           0.95   1792230\n",
            "   macro avg       0.94      0.90      0.91   1792230\n",
            "weighted avg       0.95      0.95      0.95   1792230\n",
            "\n"
          ]
        }
      ],
      "source": [
        "from sklearn import metrics\n",
        "print( metrics.classification_report(y_test,predictions, output_dict=False))"
      ]
    },
    {
      "cell_type": "code",
      "execution_count": 15,
      "metadata": {},
      "outputs": [
        {
          "data": {
            "text/plain": [
              "{'ara': {'precision': 0.9952346914462712,\n",
              "  'recall': 0.9905145838273655,\n",
              "  'f1-score': 0.9928690278107917,\n",
              "  'support': 4217},\n",
              " 'ber': {'precision': 0.8043758469114585,\n",
              "  'recall': 0.8228273915174874,\n",
              "  'f1-score': 0.8134970042867529,\n",
              "  'support': 59157},\n",
              " 'bul': {'precision': 0.9251276233692569,\n",
              "  'recall': 0.6613949716139497,\n",
              "  'f1-score': 0.7713407424923149,\n",
              "  'support': 2466},\n",
              " 'ces': {'precision': 0.9475352670787763,\n",
              "  'recall': 0.9426048565121413,\n",
              "  'f1-score': 0.9450636313334915,\n",
              "  'support': 6342},\n",
              " 'dan': {'precision': 0.8262842621165366,\n",
              "  'recall': 0.8350761328196661,\n",
              "  'f1-score': 0.8306569343065694,\n",
              "  'support': 5451},\n",
              " 'deu': {'precision': 0.979904520621133,\n",
              "  'recall': 0.9839745253794369,\n",
              "  'f1-score': 0.9819353055972919,\n",
              "  'support': 57783},\n",
              " 'ell': {'precision': 1.0, 'recall': 1.0, 'f1-score': 1.0, 'support': 3485},\n",
              " 'eng': {'precision': 0.9813668511491282,\n",
              "  'recall': 0.989179675835033,\n",
              "  'f1-score': 0.9852577753448237,\n",
              "  'support': 157389},\n",
              " 'est': {'precision': 0.9230769230769231,\n",
              "  'recall': 0.5106382978723404,\n",
              "  'f1-score': 0.6575342465753424,\n",
              "  'support': 376},\n",
              " 'fas': {'precision': 0.9881188118811881,\n",
              "  'recall': 0.992442322991249,\n",
              "  'f1-score': 0.9902758483826156,\n",
              "  'support': 2514},\n",
              " 'fin': {'precision': 0.975052731107717,\n",
              "  'recall': 0.967732621092904,\n",
              "  'f1-score': 0.971378885588001,\n",
              "  'support': 13853},\n",
              " 'fra': {'precision': 0.9745706670941626,\n",
              "  'recall': 0.9731276387138084,\n",
              "  'f1-score': 0.9738486183420105,\n",
              "  'support': 49977},\n",
              " 'gle': {'precision': 0.9813953488372092,\n",
              "  'recall': 0.8508064516129032,\n",
              "  'f1-score': 0.9114470842332614,\n",
              "  'support': 248},\n",
              " 'hbs': {'precision': 0.9145389322641908,\n",
              "  'recall': 0.8242677824267782,\n",
              "  'f1-score': 0.8670601180354106,\n",
              "  'support': 5258},\n",
              " 'heb': {'precision': 1.0, 'recall': 1.0, 'f1-score': 1.0, 'support': 19818},\n",
              " 'hin': {'precision': 1.0, 'recall': 1.0, 'f1-score': 1.0, 'support': 1457},\n",
              " 'hun': {'precision': 0.9865897131217111,\n",
              "  'recall': 0.9878473697628962,\n",
              "  'f1-score': 0.9872181408977027,\n",
              "  'support': 35301},\n",
              " 'hye': {'precision': 0.9910714285714286,\n",
              "  'recall': 1.0,\n",
              "  'f1-score': 0.9955156950672646,\n",
              "  'support': 222},\n",
              " 'ita': {'precision': 0.9548064344202724,\n",
              "  'recall': 0.9812647827710693,\n",
              "  'f1-score': 0.9678548187075624,\n",
              "  'support': 80330},\n",
              " 'jpn': {'precision': 0.999954314952716,\n",
              "  'recall': 0.9992239214791143,\n",
              "  'f1-score': 0.9995889847924374,\n",
              "  'support': 21905},\n",
              " 'kab': {'precision': 0.7931277143316712,\n",
              "  'recall': 0.7715794621026895,\n",
              "  'f1-score': 0.7822052131150792,\n",
              "  'support': 51125},\n",
              " 'kor': {'precision': 1.0,\n",
              "  'recall': 0.9976689976689976,\n",
              "  'f1-score': 0.9988331388564761,\n",
              "  'support': 858},\n",
              " 'lat': {'precision': 0.8902045209903121,\n",
              "  'recall': 0.8135759960649287,\n",
              "  'f1-score': 0.8501670521716781,\n",
              "  'support': 4066},\n",
              " 'lav': {'precision': 0.971875,\n",
              "  'recall': 0.9147058823529411,\n",
              "  'f1-score': 0.9424242424242424,\n",
              "  'support': 340},\n",
              " 'mkd': {'precision': 0.8666666666666667,\n",
              "  'recall': 0.9022499046650566,\n",
              "  'f1-score': 0.8841003923522452,\n",
              "  'support': 7867},\n",
              " 'nld': {'precision': 0.9572160489719875,\n",
              "  'recall': 0.9195857836870366,\n",
              "  'f1-score': 0.9380236690248752,\n",
              "  'support': 15644},\n",
              " 'nor': {'precision': 0.7882205513784462,\n",
              "  'recall': 0.398858592263792,\n",
              "  'f1-score': 0.5296842105263158,\n",
              "  'support': 1577},\n",
              " 'pol': {'precision': 0.9922700334965215,\n",
              "  'recall': 0.9864241803278688,\n",
              "  'f1-score': 0.9893384714193962,\n",
              "  'support': 11712},\n",
              " 'por': {'precision': 0.9576178866006121,\n",
              "  'recall': 0.9438110332839103,\n",
              "  'f1-score': 0.9506643320630342,\n",
              "  'support': 39118},\n",
              " 'ron': {'precision': 0.9804655029093932,\n",
              "  'recall': 0.884514435695538,\n",
              "  'f1-score': 0.9300216834220383,\n",
              "  'support': 2667},\n",
              " 'rus': {'precision': 0.9737742303306728,\n",
              "  'recall': 0.9904761904761905,\n",
              "  'f1-score': 0.9820542022799899,\n",
              "  'support': 89670},\n",
              " 'slk': {'precision': 0.898021308980213,\n",
              "  'recall': 0.7142857142857143,\n",
              "  'f1-score': 0.7956844234659474,\n",
              "  'support': 1652},\n",
              " 'spa': {'precision': 0.9460091957820544,\n",
              "  'recall': 0.93410178338408,\n",
              "  'f1-score': 0.9400177826414061,\n",
              "  'support': 36784},\n",
              " 'swa': {'precision': 0.775,\n",
              "  'recall': 0.41333333333333333,\n",
              "  'f1-score': 0.5391304347826087,\n",
              "  'support': 75},\n",
              " 'swe': {'precision': 0.9242888402625821,\n",
              "  'recall': 0.8949152542372881,\n",
              "  'f1-score': 0.9093649085037675,\n",
              "  'support': 4720},\n",
              " 'tha': {'precision': 0.5774111675126904,\n",
              "  'recall': 1.0,\n",
              "  'f1-score': 0.7320997586484312,\n",
              "  'support': 455},\n",
              " 'tur': {'precision': 0.9925595238095238,\n",
              "  'recall': 0.9922835214949113,\n",
              "  'f1-score': 0.992421503462469,\n",
              "  'support': 71924},\n",
              " 'ukr': {'precision': 0.9664492625888713,\n",
              "  'recall': 0.9298959746720941,\n",
              "  'f1-score': 0.9478203244302303,\n",
              "  'support': 17688},\n",
              " 'vie': {'precision': 0.9995187680461982,\n",
              "  'recall': 0.9956855225311602,\n",
              "  'f1-score': 0.9975984630163305,\n",
              "  'support': 2086},\n",
              " 'zho': {'precision': 0.9980126256722002,\n",
              "  'recall': 0.9998828765518857,\n",
              "  'f1-score': 0.9989468757313363,\n",
              "  'support': 8538},\n",
              " 'accuracy': 0.9505030046366817,\n",
              " 'macro avg': {'precision': 0.9349428304087674,\n",
              "  'recall': 0.892768944132689,\n",
              "  'f1-score': 0.9068235986032885,\n",
              "  'support': 896115},\n",
              " 'weighted avg': {'precision': 0.9503511598408619,\n",
              "  'recall': 0.9505030046366817,\n",
              "  'f1-score': 0.950082347848459,\n",
              "  'support': 896115}}"
            ]
          },
          "execution_count": 15,
          "metadata": {},
          "output_type": "execute_result"
        }
      ],
      "source": [
        "rmetrics"
      ]
    },
    {
      "cell_type": "code",
      "execution_count": 21,
      "metadata": {
        "colab": {
          "base_uri": "https://localhost:8080/"
        },
        "id": "5-gwB4OKW4Ye",
        "outputId": "5614de4f-144e-4dc2-e5d2-9e61d70b09be"
      },
      "outputs": [
        {
          "data": {
            "text/plain": [
              "0.9510503674193602"
            ]
          },
          "execution_count": 21,
          "metadata": {},
          "output_type": "execute_result"
        }
      ],
      "source": [
        "metrics.accuracy_score(y_test,predictions)"
      ]
    },
    {
      "cell_type": "code",
      "execution_count": 12,
      "metadata": {
        "colab": {
          "base_uri": "https://localhost:8080/",
          "height": 35
        },
        "id": "OuCtJl8CW9Gz",
        "outputId": "6600c454-9988-4e78-e045-5b0a1ad27dcb"
      },
      "outputs": [
        {
          "data": {
            "text/plain": [
              "'kor'"
            ]
          },
          "execution_count": 12,
          "metadata": {},
          "output_type": "execute_result"
        }
      ],
      "source": [
        "model.predict(['그러나 주로 개인적인 용도로 이용되는 위키도 있는데, 이를 개인 위키라고 한다. bonjour'])[0] "
      ]
    },
    {
      "cell_type": "code",
      "execution_count": 25,
      "metadata": {
        "colab": {
          "base_uri": "https://localhost:8080/",
          "height": 35
        },
        "id": "sQxJ7CURiwAM",
        "outputId": "7d2fc5cc-9643-429f-8434-7efee06e9b38"
      },
      "outputs": [
        {
          "data": {
            "text/plain": [
              "'heb'"
            ]
          },
          "execution_count": 25,
          "metadata": {},
          "output_type": "execute_result"
        }
      ],
      "source": [
        "model.predict(['ויקי יכולה להיות שיטה טובה לשיתוף ידע בקהילות שפועלות באמצעות האינטרנט או בתוךיות. היא חלופה'])[0]"
      ]
    },
    {
      "cell_type": "code",
      "execution_count": 11,
      "metadata": {
        "colab": {
          "base_uri": "https://localhost:8080/",
          "height": 35
        },
        "id": "FjgXnAGHiwjm",
        "outputId": "17c11cf8-e656-4fab-e6b0-8a4f2ed16c5d"
      },
      "outputs": [
        {
          "data": {
            "text/plain": [
              "'deu'"
            ]
          },
          "execution_count": 11,
          "metadata": {},
          "output_type": "execute_result"
        }
      ],
      "source": [
        "model.predict(['einsetzt. Zudem nutzen auch viele '])[0]"
      ]
    },
    {
      "cell_type": "code",
      "execution_count": 11,
      "metadata": {
        "colab": {
          "base_uri": "https://localhost:8080/",
          "height": 35
        },
        "id": "vRB_PiDWjZf6",
        "outputId": "2ddf6983-963b-4a4e-d106-c3f1ee520813"
      },
      "outputs": [
        {
          "data": {
            "text/plain": [
              "'ara'"
            ]
          },
          "execution_count": 11,
          "metadata": {},
          "output_type": "execute_result"
        }
      ],
      "source": [
        "model.predict(['الكرام بتحويل الكتابة العربي الى كتابة مفهومة من قبل اغلب برامج التصميم مثل الفوتوشوب و الافترايفكتس و البريمير و الافد ميدا كومبوزر و السموك و برامج اخرى'])[0]"
      ]
    },
    {
      "cell_type": "code",
      "execution_count": 35,
      "metadata": {
        "colab": {
          "base_uri": "https://localhost:8080/",
          "height": 35
        },
        "id": "6qVsUhPhkES_",
        "outputId": "1fd4f36e-96a9-4496-948a-63424a3de146"
      },
      "outputs": [
        {
          "data": {
            "text/plain": [
              "array(['hin', 'eng', 'fra'], dtype=object)"
            ]
          },
          "execution_count": 35,
          "metadata": {},
          "output_type": "execute_result"
        }
      ],
      "source": [
        "model.predict(\n",
        "    ['से प्रत्येक एक विशिष्ट भाषा से संबंधित है। विकिपीडिया के अलावा, सार्वजनिक और निजी दोनों उपयोग में सैकड़ों हजारों अ'\n",
        "    ,'Store metadata, particularly for linguistic annotations of a certain type'\n",
        "    ,'bonjour et body are parfois c''est logique état'])"
      ]
    },
    {
      "cell_type": "markdown",
      "metadata": {
        "id": "RCjBWMXbGhv6"
      },
      "source": [
        "# Model persistence"
      ]
    },
    {
      "cell_type": "code",
      "execution_count": 22,
      "metadata": {
        "colab": {
          "base_uri": "https://localhost:8080/"
        },
        "id": "EdaB3qyFGMz1",
        "outputId": "a660e408-d7e6-4f78-f964-b413a84241f2"
      },
      "outputs": [
        {
          "data": {
            "text/plain": [
              "['data/lang_detector.joblib']"
            ]
          },
          "execution_count": 22,
          "metadata": {},
          "output_type": "execute_result"
        }
      ],
      "source": [
        "from joblib import dump\n",
        "dump(model, '../data/lang_detector.joblib') "
      ]
    }
  ],
  "metadata": {
    "colab": {
      "authorship_tag": "ABX9TyMw6TSkr2UeNLxm29k70BP8",
      "collapsed_sections": [],
      "include_colab_link": true,
      "name": "ML_lang_detector.ipynb",
      "provenance": []
    },
    "kernelspec": {
      "display_name": "Python 3",
      "name": "python3"
    },
    "language_info": {
      "codemirror_mode": {
        "name": "ipython",
        "version": 3
      },
      "file_extension": ".py",
      "mimetype": "text/x-python",
      "name": "python",
      "nbconvert_exporter": "python",
      "pygments_lexer": "ipython3",
      "version": "3.9.7"
    }
  },
  "nbformat": 4,
  "nbformat_minor": 0
}
