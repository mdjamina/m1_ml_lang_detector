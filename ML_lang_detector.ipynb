{
  "cells": [
    {
      "cell_type": "markdown",
      "metadata": {
        "colab_type": "text",
        "id": "view-in-github"
      },
      "source": [
        "<a href=\"https://colab.research.google.com/github/mdjamina/m1_ml_lang_detector/blob/main/ML_lang_detector.ipynb\" target=\"_parent\"><img src=\"https://colab.research.google.com/assets/colab-badge.svg\" alt=\"Open In Colab\"/></a>"
      ]
    },
    {
      "cell_type": "markdown",
      "metadata": {
        "id": "wsWqzNezu3vU"
      },
      "source": [
        "# Corpus\n",
        "[Tatoeba](https://tatoeba.org/fr/downloads\n",
        ") est une collection de phrases et de traductions."
      ]
    },
    {
      "cell_type": "markdown",
      "metadata": {
        "id": "L9dop-NpvqVh"
      },
      "source": [
        "Extraction de l'archive téléchargée "
      ]
    },
    {
      "cell_type": "code",
      "execution_count": 17,
      "metadata": {
        "colab": {
          "base_uri": "https://localhost:8080/"
        },
        "id": "vPzTKS9UWwNg",
        "outputId": "7463ffa9-86a4-4e1b-9cee-fe4ae678bab5"
      },
      "outputs": [
        {
          "name": "stdout",
          "output_type": "stream",
          "text": [
            "Archive:  ./data/data.zip\n",
            "warning [./data/data.zip]:  zipfile claims to be last disk of a multi-part archive;\n",
            "  attempting to process anyway, assuming all parts have been concatenated\n",
            "  together in order.  Expect \"errors\" and warnings...true multi-part support\n",
            "  doesn't exist yet (coming soon).\n",
            "file #1:  bad zipfile offset (local header sig):  4\n"
          ]
        }
      ],
      "source": [
        "!unzip ./data/data.zip"
      ]
    },
    {
      "cell_type": "markdown",
      "metadata": {
        "id": "G86sykMcXWUw"
      },
      "source": [
        "## Chargement du corpus"
      ]
    },
    {
      "cell_type": "code",
      "execution_count": 18,
      "metadata": {
        "colab": {
          "base_uri": "https://localhost:8080/",
          "height": 424
        },
        "id": "4oMo0Uvp0wek",
        "outputId": "23cbc4d2-b878-4e65-8a62-54b2304fca1c"
      },
      "outputs": [
        {
          "data": {
            "text/html": [
              "<div>\n",
              "<style scoped>\n",
              "    .dataframe tbody tr th:only-of-type {\n",
              "        vertical-align: middle;\n",
              "    }\n",
              "\n",
              "    .dataframe tbody tr th {\n",
              "        vertical-align: top;\n",
              "    }\n",
              "\n",
              "    .dataframe thead th {\n",
              "        text-align: right;\n",
              "    }\n",
              "</style>\n",
              "<table border=\"1\" class=\"dataframe\">\n",
              "  <thead>\n",
              "    <tr style=\"text-align: right;\">\n",
              "      <th></th>\n",
              "      <th>content</th>\n",
              "      <th>lang</th>\n",
              "    </tr>\n",
              "  </thead>\n",
              "  <tbody>\n",
              "    <tr>\n",
              "      <th>0</th>\n",
              "      <td>我們試試看！</td>\n",
              "      <td>zho</td>\n",
              "    </tr>\n",
              "    <tr>\n",
              "      <th>1</th>\n",
              "      <td>我该去睡觉了。</td>\n",
              "      <td>zho</td>\n",
              "    </tr>\n",
              "    <tr>\n",
              "      <th>2</th>\n",
              "      <td>你在干什麼啊？</td>\n",
              "      <td>zho</td>\n",
              "    </tr>\n",
              "    <tr>\n",
              "      <th>3</th>\n",
              "      <td>這是什麼啊？</td>\n",
              "      <td>zho</td>\n",
              "    </tr>\n",
              "    <tr>\n",
              "      <th>4</th>\n",
              "      <td>今天是６月１８号，也是Muiriel的生日！</td>\n",
              "      <td>zho</td>\n",
              "    </tr>\n",
              "    <tr>\n",
              "      <th>...</th>\n",
              "      <td>...</td>\n",
              "      <td>...</td>\n",
              "    </tr>\n",
              "    <tr>\n",
              "      <th>10262652</th>\n",
              "      <td>Utálom a melóm!</td>\n",
              "      <td>hun</td>\n",
              "    </tr>\n",
              "    <tr>\n",
              "      <th>10262653</th>\n",
              "      <td>Ich habe den Ersatzschlüssel verloren.</td>\n",
              "      <td>deu</td>\n",
              "    </tr>\n",
              "    <tr>\n",
              "      <th>10262654</th>\n",
              "      <td>Mibe' fogadjunk?</td>\n",
              "      <td>hun</td>\n",
              "    </tr>\n",
              "    <tr>\n",
              "      <th>10262655</th>\n",
              "      <td>Utálok itt lenni!</td>\n",
              "      <td>hun</td>\n",
              "    </tr>\n",
              "    <tr>\n",
              "      <th>10262656</th>\n",
              "      <td>I don't care about the household.</td>\n",
              "      <td>eng</td>\n",
              "    </tr>\n",
              "  </tbody>\n",
              "</table>\n",
              "<p>8961150 rows × 2 columns</p>\n",
              "</div>"
            ],
            "text/plain": [
              "                                         content lang\n",
              "0                                         我們試試看！  zho\n",
              "1                                        我该去睡觉了。  zho\n",
              "2                                        你在干什麼啊？  zho\n",
              "3                                         這是什麼啊？  zho\n",
              "4                         今天是６月１８号，也是Muiriel的生日！  zho\n",
              "...                                          ...  ...\n",
              "10262652                         Utálom a melóm!  hun\n",
              "10262653  Ich habe den Ersatzschlüssel verloren.  deu\n",
              "10262654                        Mibe' fogadjunk?  hun\n",
              "10262655                       Utálok itt lenni!  hun\n",
              "10262656       I don't care about the household.  eng\n",
              "\n",
              "[8961150 rows x 2 columns]"
            ]
          },
          "execution_count": 18,
          "metadata": {},
          "output_type": "execute_result"
        }
      ],
      "source": [
        "import pandas as pd\n",
        "\n",
        "\n",
        "data = pd.read_pickle(\"./data/data.pkl\") \n",
        "\n",
        "\n",
        "data"
      ]
    },
    {
      "cell_type": "markdown",
      "metadata": {
        "id": "DIiE3aUbXarg"
      },
      "source": [
        "# pre-processing"
      ]
    },
    {
      "cell_type": "markdown",
      "metadata": {
        "id": "btFasJzVxuFv"
      },
      "source": [
        "## TODO"
      ]
    },
    {
      "cell_type": "markdown",
      "metadata": {
        "id": "zP19OAAt4iM0"
      },
      "source": []
    },
    {
      "cell_type": "code",
      "execution_count": 3,
      "metadata": {
        "id": "3WwvVw8Yrxqg"
      },
      "outputs": [],
      "source": [
        "from sklearn.model_selection import train_test_split \n",
        "\n",
        "x_train, x_test, y_train, y_test = train_test_split(data['content'], data['lang'], test_size=0.33, random_state=1) \n",
        "# ramdom_state = meme corpus (meme decoupage, decouper en 2 train et test le corpus, car on a besoin de faire les tests)"
      ]
    },
    {
      "cell_type": "code",
      "execution_count": null,
      "metadata": {
        "colab": {
          "base_uri": "https://localhost:8080/"
        },
        "id": "kJ16poLjqJ2Q",
        "outputId": "396fa427-1ccf-42e4-8bdc-18537563ab05"
      },
      "outputs": [],
      "source": [
        "y_train.value_counts()"
      ]
    },
    {
      "cell_type": "markdown",
      "metadata": {
        "id": "OHk7C7h8Xfok"
      },
      "source": [
        "# Model"
      ]
    },
    {
      "cell_type": "code",
      "execution_count": 5,
      "metadata": {
        "id": "GmSw3tCJKvgB"
      },
      "outputs": [],
      "source": [
        "from joblib import Memory\n",
        "from shutil import rmtree\n",
        "\n",
        "# Create a temporary folder to store the transformers of the pipeline\n",
        "mem = Memory(location=\"/tmp/cachedir\", verbose=0)"
      ]
    },
    {
      "cell_type": "code",
      "execution_count": 6,
      "metadata": {
        "colab": {
          "base_uri": "https://localhost:8080/"
        },
        "id": "MoSM-Nu4VxL3",
        "outputId": "10cdea09-4eb4-4a8a-c09e-9d503a1638da"
      },
      "outputs": [
        {
          "name": "stdout",
          "output_type": "stream",
          "text": [
            "[Pipeline] ... (step 1 of 2) Processing TfidfVectorizer, total=  33.1s\n"
          ]
        },
        {
          "name": "stderr",
          "output_type": "stream",
          "text": [
            "/home/amina/.local/lib/python3.9/site-packages/sklearn/pipeline.py:348: UserWarning: Persisting input arguments took 26.34s to run.\n",
            "If this happens often in your code, it can cause performance problems \n",
            "(results will be correct in all cases). \n",
            "The reason for this is probably some large input arguments for a wrapped\n",
            " function (e.g. large strings).\n",
            "THIS IS A JOBLIB ISSUE. If you can, kindly provide the joblib's team with an\n",
            " example so that they can fix the problem.\n",
            "  X, fitted_transformer = fit_transform_one_cached(\n"
          ]
        },
        {
          "name": "stdout",
          "output_type": "stream",
          "text": [
            "[Pipeline] ......... (step 2 of 2) Processing LinearSVC, total=11.6min\n"
          ]
        },
        {
          "data": {
            "text/plain": [
              "Pipeline(memory=Memory(location=cachedir/joblib),\n",
              "         steps=[('TfidfVectorizer', TfidfVectorizer()),\n",
              "                ('LinearSVC', LinearSVC())],\n",
              "         verbose=True)"
            ]
          },
          "execution_count": 6,
          "metadata": {},
          "output_type": "execute_result"
        }
      ],
      "source": [
        "from sklearn.pipeline import Pipeline\n",
        "from sklearn.svm import LinearSVC\n",
        "from sklearn.feature_extraction.text import TfidfVectorizer\n",
        "\n",
        "model = Pipeline([('TfidfVectorizer', TfidfVectorizer()),\n",
        "                     ('LinearSVC', LinearSVC()),],verbose=True,memory=mem)\n",
        "\n",
        "\n",
        "model.fit(x_train, y_train)  \n",
        "\n",
        "\n"
      ]
    },
    {
      "cell_type": "code",
      "execution_count": 7,
      "metadata": {
        "id": "2Yt5OcI1Y2zy"
      },
      "outputs": [],
      "source": [
        "predictions = model.predict(x_test)"
      ]
    },
    {
      "cell_type": "code",
      "execution_count": 8,
      "metadata": {
        "id": "4uJplem8Wket"
      },
      "outputs": [
        {
          "name": "stdout",
          "output_type": "stream",
          "text": [
            "[[ 13354      6      0 ...      0      0      0]\n",
            " [     3 180339      0 ...      0      0      0]\n",
            " [     0      0   7237 ...     40      0      0]\n",
            " ...\n",
            " [     0      1      4 ...  56558      0      0]\n",
            " [     0      0      0 ...      0   6906      0]\n",
            " [     0     17      0 ...      0      0   1412]]\n"
          ]
        }
      ],
      "source": [
        "from sklearn import metrics\n",
        "print(metrics.confusion_matrix(y_test,predictions))"
      ]
    },
    {
      "cell_type": "code",
      "execution_count": 9,
      "metadata": {
        "colab": {
          "base_uri": "https://localhost:8080/"
        },
        "id": "ylR3yrFlW0ks",
        "outputId": "06dbd96f-5e3c-4b90-af36-40963a94f1bd"
      },
      "outputs": [
        {
          "name": "stdout",
          "output_type": "stream",
          "text": [
            "              precision    recall  f1-score   support\n",
            "\n",
            "         ara       1.00      0.96      0.98     13846\n",
            "         ber       0.91      0.93      0.92    194880\n",
            "         bul       0.98      0.90      0.94      8016\n",
            "         ces       0.97      0.97      0.97     20731\n",
            "         dan       0.94      0.98      0.96     17825\n",
            "         deu       1.00      1.00      1.00    191456\n",
            "         ell       1.00      0.98      0.99     11611\n",
            "         eng       1.00      1.00      1.00    518113\n",
            "         est       0.98      0.85      0.91      1226\n",
            "         fas       1.00      0.99      0.99      8191\n",
            "         fin       1.00      0.98      0.99     45895\n",
            "         fra       1.00      1.00      1.00    164772\n",
            "         gle       0.99      0.94      0.97       861\n",
            "         hbs       0.98      0.93      0.95     16937\n",
            "         heb       1.00      0.99      1.00     65492\n",
            "         hin       1.00      0.91      0.95      4706\n",
            "         hun       1.00      0.98      0.99    117260\n",
            "         hye       1.00      0.89      0.94       764\n",
            "         ita       1.00      1.00      1.00    264916\n",
            "         jpn       0.65      1.00      0.79     72291\n",
            "         kab       0.92      0.89      0.90    169724\n",
            "         kor       1.00      0.87      0.93      3017\n",
            "         lat       0.99      0.96      0.98     13463\n",
            "         lav       0.99      0.92      0.95      1042\n",
            "         mkd       0.96      0.97      0.96     25600\n",
            "         nld       1.00      0.99      0.99     50980\n",
            "         nor       0.95      0.80      0.87      5350\n",
            "         pol       1.00      0.98      0.99     38210\n",
            "         por       1.00      0.99      0.99    129971\n",
            "         ron       0.99      0.97      0.98      8781\n",
            "         rus       0.99      1.00      0.99    297386\n",
            "         slk       0.96      0.86      0.91      5527\n",
            "         spa       0.99      0.99      0.99    121437\n",
            "         swa       0.98      0.73      0.84       206\n",
            "         swe       0.99      0.97      0.98     15274\n",
            "         tha       1.00      0.84      0.92      1490\n",
            "         tur       1.00      0.99      0.99    236566\n",
            "         ukr       0.99      0.97      0.98     58388\n",
            "         vie       1.00      1.00      1.00      6923\n",
            "         zho       0.99      0.05      0.10     28056\n",
            "\n",
            "    accuracy                           0.97   2957180\n",
            "   macro avg       0.98      0.92      0.94   2957180\n",
            "weighted avg       0.98      0.97      0.97   2957180\n",
            "\n"
          ]
        }
      ],
      "source": [
        "#from sklearn import metrics\n",
        "print(metrics.classification_report(y_test,predictions))"
      ]
    },
    {
      "cell_type": "code",
      "execution_count": 10,
      "metadata": {
        "colab": {
          "base_uri": "https://localhost:8080/"
        },
        "id": "5-gwB4OKW4Ye",
        "outputId": "5614de4f-144e-4dc2-e5d2-9e61d70b09be"
      },
      "outputs": [
        {
          "data": {
            "text/plain": [
              "0.9719847963262297"
            ]
          },
          "execution_count": 10,
          "metadata": {},
          "output_type": "execute_result"
        }
      ],
      "source": [
        "metrics.accuracy_score(y_test,predictions)"
      ]
    },
    {
      "cell_type": "code",
      "execution_count": 12,
      "metadata": {
        "colab": {
          "base_uri": "https://localhost:8080/",
          "height": 35
        },
        "id": "OuCtJl8CW9Gz",
        "outputId": "6600c454-9988-4e78-e045-5b0a1ad27dcb"
      },
      "outputs": [
        {
          "data": {
            "text/plain": [
              "'kor'"
            ]
          },
          "execution_count": 12,
          "metadata": {},
          "output_type": "execute_result"
        }
      ],
      "source": [
        "model.predict(['그러나 주로 개인적인 용도로 이용되는 위키도 있는데, 이를 개인 위키라고 한다. bonjour'])[0] "
      ]
    },
    {
      "cell_type": "code",
      "execution_count": 12,
      "metadata": {
        "colab": {
          "base_uri": "https://localhost:8080/",
          "height": 35
        },
        "id": "sQxJ7CURiwAM",
        "outputId": "7d2fc5cc-9643-429f-8434-7efee06e9b38"
      },
      "outputs": [
        {
          "data": {
            "text/plain": [
              "'heb'"
            ]
          },
          "execution_count": 12,
          "metadata": {},
          "output_type": "execute_result"
        }
      ],
      "source": [
        "model.predict(['ויקי יכולה להיות שיטה טובה לשיתוף ידע בקהילות שפועלות באמצעות האינטרנט או בתוךיות. היא חלופה'])[0]"
      ]
    },
    {
      "cell_type": "code",
      "execution_count": 13,
      "metadata": {
        "colab": {
          "base_uri": "https://localhost:8080/",
          "height": 35
        },
        "id": "FjgXnAGHiwjm",
        "outputId": "17c11cf8-e656-4fab-e6b0-8a4f2ed16c5d"
      },
      "outputs": [
        {
          "data": {
            "text/plain": [
              "'deu'"
            ]
          },
          "execution_count": 13,
          "metadata": {},
          "output_type": "execute_result"
        }
      ],
      "source": [
        "model.predict(['einsetzt. Zudem nutzen auch viele '])[0]"
      ]
    },
    {
      "cell_type": "code",
      "execution_count": 14,
      "metadata": {
        "colab": {
          "base_uri": "https://localhost:8080/",
          "height": 35
        },
        "id": "vRB_PiDWjZf6",
        "outputId": "2ddf6983-963b-4a4e-d106-c3f1ee520813"
      },
      "outputs": [
        {
          "data": {
            "text/plain": [
              "'ara'"
            ]
          },
          "execution_count": 14,
          "metadata": {},
          "output_type": "execute_result"
        }
      ],
      "source": [
        "model.predict(['الكرام بتحويل الكتابة العربي الى كتابة مفهومة من قبل اغلب برامج التصميم مثل الفوتوشوب و الافترايفكتس و البريمير و الافد ميدا كومبوزر و السموك و برامج اخرى'])[0]"
      ]
    },
    {
      "cell_type": "code",
      "execution_count": 15,
      "metadata": {
        "colab": {
          "base_uri": "https://localhost:8080/",
          "height": 35
        },
        "id": "6qVsUhPhkES_",
        "outputId": "1fd4f36e-96a9-4496-948a-63424a3de146"
      },
      "outputs": [
        {
          "data": {
            "text/plain": [
              "'hin'"
            ]
          },
          "execution_count": 15,
          "metadata": {},
          "output_type": "execute_result"
        }
      ],
      "source": [
        "model.predict(['से प्रत्येक एक विशिष्ट भाषा से संबंधित है। विकिपीडिया के अलावा, सार्वजनिक और निजी दोनों उपयोग में सैकड़ों हजारों अ'])[0]"
      ]
    },
    {
      "cell_type": "markdown",
      "metadata": {
        "id": "RCjBWMXbGhv6"
      },
      "source": [
        "# Model persistence"
      ]
    },
    {
      "cell_type": "code",
      "execution_count": 14,
      "metadata": {
        "colab": {
          "base_uri": "https://localhost:8080/"
        },
        "id": "EdaB3qyFGMz1",
        "outputId": "a660e408-d7e6-4f78-f964-b413a84241f2"
      },
      "outputs": [
        {
          "data": {
            "text/plain": [
              "['data/lang_detector.joblib']"
            ]
          },
          "execution_count": 14,
          "metadata": {},
          "output_type": "execute_result"
        }
      ],
      "source": [
        "from joblib import dump\n",
        "dump(model, 'data/lang_detector.joblib') "
      ]
    }
  ],
  "metadata": {
    "colab": {
      "authorship_tag": "ABX9TyMw6TSkr2UeNLxm29k70BP8",
      "collapsed_sections": [],
      "include_colab_link": true,
      "name": "ML_lang_detector.ipynb",
      "provenance": []
    },
    "kernelspec": {
      "display_name": "Python 3",
      "name": "python3"
    },
    "language_info": {
      "codemirror_mode": {
        "name": "ipython",
        "version": 3
      },
      "file_extension": ".py",
      "mimetype": "text/x-python",
      "name": "python",
      "nbconvert_exporter": "python",
      "pygments_lexer": "ipython3",
      "version": "3.9.7"
    }
  },
  "nbformat": 4,
  "nbformat_minor": 0
}
