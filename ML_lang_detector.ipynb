{
  "cells": [
    {
      "cell_type": "markdown",
      "metadata": {
        "id": "view-in-github",
        "colab_type": "text"
      },
      "source": [
        "<a href=\"https://colab.research.google.com/github/mdjamina/m1_ml_lang_detector/blob/main/ML_lang_detector.ipynb\" target=\"_parent\"><img src=\"https://colab.research.google.com/assets/colab-badge.svg\" alt=\"Open In Colab\"/></a>"
      ]
    },
    {
      "cell_type": "markdown",
      "source": [
        "# Corpus\n",
        "[Tatoeba](https://tatoeba.org/fr/downloads\n",
        ") est une collection de phrases et de traductions."
      ],
      "metadata": {
        "id": "wsWqzNezu3vU"
      }
    },
    {
      "cell_type": "markdown",
      "source": [
        "Extraction de l'archive téléchargée "
      ],
      "metadata": {
        "id": "L9dop-NpvqVh"
      }
    },
    {
      "cell_type": "code",
      "execution_count": 9,
      "metadata": {
        "id": "vPzTKS9UWwNg",
        "outputId": "7463ffa9-86a4-4e1b-9cee-fe4ae678bab5",
        "colab": {
          "base_uri": "https://localhost:8080/"
        }
      },
      "outputs": [
        {
          "output_type": "stream",
          "name": "stdout",
          "text": [
            "Archive:  ./data/data.zip\n",
            "  inflating: data.pkl                \n"
          ]
        }
      ],
      "source": [
        "!unzip ./data/data.zip"
      ]
    },
    {
      "cell_type": "markdown",
      "metadata": {
        "id": "G86sykMcXWUw"
      },
      "source": [
        "## Chargement du corpus"
      ]
    },
    {
      "cell_type": "code",
      "execution_count": 29,
      "metadata": {
        "id": "4oMo0Uvp0wek",
        "colab": {
          "base_uri": "https://localhost:8080/",
          "height": 424
        },
        "outputId": "23cbc4d2-b878-4e65-8a62-54b2304fca1c"
      },
      "outputs": [
        {
          "output_type": "execute_result",
          "data": {
            "text/plain": [
              "                                                   content lang\n",
              "0                                                   我們試試看！  zho\n",
              "1                                                  我该去睡觉了。  zho\n",
              "2                                                  你在干什麼啊？  zho\n",
              "3                                                   這是什麼啊？  zho\n",
              "4                                   今天是６月１８号，也是Muiriel的生日！  zho\n",
              "...                                                    ...  ...\n",
              "1847716                         I can't take this anymore.  eng\n",
              "9199518                That actually was my next question.  eng\n",
              "307316   I am determined to make a living as a playwright.  eng\n",
              "5586956     I can't pretend I don't have feelings for you.  eng\n",
              "297342      She finished her coffee and asked for another.  eng\n",
              "\n",
              "[3944915 rows x 2 columns]"
            ],
            "text/html": [
              "\n",
              "  <div id=\"df-a888d1cd-685e-4d31-a6d7-154dd1e26b8c\">\n",
              "    <div class=\"colab-df-container\">\n",
              "      <div>\n",
              "<style scoped>\n",
              "    .dataframe tbody tr th:only-of-type {\n",
              "        vertical-align: middle;\n",
              "    }\n",
              "\n",
              "    .dataframe tbody tr th {\n",
              "        vertical-align: top;\n",
              "    }\n",
              "\n",
              "    .dataframe thead th {\n",
              "        text-align: right;\n",
              "    }\n",
              "</style>\n",
              "<table border=\"1\" class=\"dataframe\">\n",
              "  <thead>\n",
              "    <tr style=\"text-align: right;\">\n",
              "      <th></th>\n",
              "      <th>content</th>\n",
              "      <th>lang</th>\n",
              "    </tr>\n",
              "  </thead>\n",
              "  <tbody>\n",
              "    <tr>\n",
              "      <th>0</th>\n",
              "      <td>我們試試看！</td>\n",
              "      <td>zho</td>\n",
              "    </tr>\n",
              "    <tr>\n",
              "      <th>1</th>\n",
              "      <td>我该去睡觉了。</td>\n",
              "      <td>zho</td>\n",
              "    </tr>\n",
              "    <tr>\n",
              "      <th>2</th>\n",
              "      <td>你在干什麼啊？</td>\n",
              "      <td>zho</td>\n",
              "    </tr>\n",
              "    <tr>\n",
              "      <th>3</th>\n",
              "      <td>這是什麼啊？</td>\n",
              "      <td>zho</td>\n",
              "    </tr>\n",
              "    <tr>\n",
              "      <th>4</th>\n",
              "      <td>今天是６月１８号，也是Muiriel的生日！</td>\n",
              "      <td>zho</td>\n",
              "    </tr>\n",
              "    <tr>\n",
              "      <th>...</th>\n",
              "      <td>...</td>\n",
              "      <td>...</td>\n",
              "    </tr>\n",
              "    <tr>\n",
              "      <th>1847716</th>\n",
              "      <td>I can't take this anymore.</td>\n",
              "      <td>eng</td>\n",
              "    </tr>\n",
              "    <tr>\n",
              "      <th>9199518</th>\n",
              "      <td>That actually was my next question.</td>\n",
              "      <td>eng</td>\n",
              "    </tr>\n",
              "    <tr>\n",
              "      <th>307316</th>\n",
              "      <td>I am determined to make a living as a playwright.</td>\n",
              "      <td>eng</td>\n",
              "    </tr>\n",
              "    <tr>\n",
              "      <th>5586956</th>\n",
              "      <td>I can't pretend I don't have feelings for you.</td>\n",
              "      <td>eng</td>\n",
              "    </tr>\n",
              "    <tr>\n",
              "      <th>297342</th>\n",
              "      <td>She finished her coffee and asked for another.</td>\n",
              "      <td>eng</td>\n",
              "    </tr>\n",
              "  </tbody>\n",
              "</table>\n",
              "<p>3944915 rows × 2 columns</p>\n",
              "</div>\n",
              "      <button class=\"colab-df-convert\" onclick=\"convertToInteractive('df-a888d1cd-685e-4d31-a6d7-154dd1e26b8c')\"\n",
              "              title=\"Convert this dataframe to an interactive table.\"\n",
              "              style=\"display:none;\">\n",
              "        \n",
              "  <svg xmlns=\"http://www.w3.org/2000/svg\" height=\"24px\"viewBox=\"0 0 24 24\"\n",
              "       width=\"24px\">\n",
              "    <path d=\"M0 0h24v24H0V0z\" fill=\"none\"/>\n",
              "    <path d=\"M18.56 5.44l.94 2.06.94-2.06 2.06-.94-2.06-.94-.94-2.06-.94 2.06-2.06.94zm-11 1L8.5 8.5l.94-2.06 2.06-.94-2.06-.94L8.5 2.5l-.94 2.06-2.06.94zm10 10l.94 2.06.94-2.06 2.06-.94-2.06-.94-.94-2.06-.94 2.06-2.06.94z\"/><path d=\"M17.41 7.96l-1.37-1.37c-.4-.4-.92-.59-1.43-.59-.52 0-1.04.2-1.43.59L10.3 9.45l-7.72 7.72c-.78.78-.78 2.05 0 2.83L4 21.41c.39.39.9.59 1.41.59.51 0 1.02-.2 1.41-.59l7.78-7.78 2.81-2.81c.8-.78.8-2.07 0-2.86zM5.41 20L4 18.59l7.72-7.72 1.47 1.35L5.41 20z\"/>\n",
              "  </svg>\n",
              "      </button>\n",
              "      \n",
              "  <style>\n",
              "    .colab-df-container {\n",
              "      display:flex;\n",
              "      flex-wrap:wrap;\n",
              "      gap: 12px;\n",
              "    }\n",
              "\n",
              "    .colab-df-convert {\n",
              "      background-color: #E8F0FE;\n",
              "      border: none;\n",
              "      border-radius: 50%;\n",
              "      cursor: pointer;\n",
              "      display: none;\n",
              "      fill: #1967D2;\n",
              "      height: 32px;\n",
              "      padding: 0 0 0 0;\n",
              "      width: 32px;\n",
              "    }\n",
              "\n",
              "    .colab-df-convert:hover {\n",
              "      background-color: #E2EBFA;\n",
              "      box-shadow: 0px 1px 2px rgba(60, 64, 67, 0.3), 0px 1px 3px 1px rgba(60, 64, 67, 0.15);\n",
              "      fill: #174EA6;\n",
              "    }\n",
              "\n",
              "    [theme=dark] .colab-df-convert {\n",
              "      background-color: #3B4455;\n",
              "      fill: #D2E3FC;\n",
              "    }\n",
              "\n",
              "    [theme=dark] .colab-df-convert:hover {\n",
              "      background-color: #434B5C;\n",
              "      box-shadow: 0px 1px 3px 1px rgba(0, 0, 0, 0.15);\n",
              "      filter: drop-shadow(0px 1px 2px rgba(0, 0, 0, 0.3));\n",
              "      fill: #FFFFFF;\n",
              "    }\n",
              "  </style>\n",
              "\n",
              "      <script>\n",
              "        const buttonEl =\n",
              "          document.querySelector('#df-a888d1cd-685e-4d31-a6d7-154dd1e26b8c button.colab-df-convert');\n",
              "        buttonEl.style.display =\n",
              "          google.colab.kernel.accessAllowed ? 'block' : 'none';\n",
              "\n",
              "        async function convertToInteractive(key) {\n",
              "          const element = document.querySelector('#df-a888d1cd-685e-4d31-a6d7-154dd1e26b8c');\n",
              "          const dataTable =\n",
              "            await google.colab.kernel.invokeFunction('convertToInteractive',\n",
              "                                                     [key], {});\n",
              "          if (!dataTable) return;\n",
              "\n",
              "          const docLinkHtml = 'Like what you see? Visit the ' +\n",
              "            '<a target=\"_blank\" href=https://colab.research.google.com/notebooks/data_table.ipynb>data table notebook</a>'\n",
              "            + ' to learn more about interactive tables.';\n",
              "          element.innerHTML = '';\n",
              "          dataTable['output_type'] = 'display_data';\n",
              "          await google.colab.output.renderOutput(dataTable, element);\n",
              "          const docLink = document.createElement('div');\n",
              "          docLink.innerHTML = docLinkHtml;\n",
              "          element.appendChild(docLink);\n",
              "        }\n",
              "      </script>\n",
              "    </div>\n",
              "  </div>\n",
              "  "
            ]
          },
          "metadata": {},
          "execution_count": 29
        }
      ],
      "source": [
        "import pandas as pd\n",
        "\n",
        "\n",
        "data = pd.read_pickle(\"./df_corpus.zip\") \n",
        "\n",
        "\n",
        "data"
      ]
    },
    {
      "cell_type": "markdown",
      "metadata": {
        "id": "DIiE3aUbXarg"
      },
      "source": [
        "# pre-processing"
      ]
    },
    {
      "cell_type": "markdown",
      "source": [
        "## TODO"
      ],
      "metadata": {
        "id": "btFasJzVxuFv"
      }
    },
    {
      "cell_type": "markdown",
      "source": [
        ""
      ],
      "metadata": {
        "id": "zP19OAAt4iM0"
      }
    },
    {
      "cell_type": "code",
      "execution_count": 30,
      "metadata": {
        "id": "3WwvVw8Yrxqg"
      },
      "outputs": [],
      "source": [
        "from sklearn.model_selection import train_test_split \n",
        "\n",
        "x_train, x_test, y_train, y_test = train_test_split(data['content'], data['lang'], test_size=0.33, random_state=1) \n",
        "# ramdom_state = meme corpus (meme decoupage, decouper en 2 train et test le corpus, car on a besoin de faire les tests)"
      ]
    },
    {
      "cell_type": "code",
      "execution_count": 31,
      "metadata": {
        "colab": {
          "base_uri": "https://localhost:8080/"
        },
        "id": "kJ16poLjqJ2Q",
        "outputId": "396fa427-1ccf-42e4-8bdc-18537563ab05"
      },
      "outputs": [
        {
          "output_type": "execute_result",
          "data": {
            "text/plain": [
              "eng    210888\n",
              "rus    205654\n",
              "fra    183456\n",
              "ita    183158\n",
              "tur    163044\n",
              "jpn    146623\n",
              "por    144717\n",
              "spa    135491\n",
              "ber    134416\n",
              "heb    132591\n",
              "deu    131979\n",
              "hun    130613\n",
              "ukr    119173\n",
              "kab    116790\n",
              "nld    103543\n",
              "fin     93320\n",
              "pol     77587\n",
              "zho     56730\n",
              "dan     35746\n",
              "swe     31163\n",
              "ara     28481\n",
              "ell     23298\n",
              "fas     16642\n",
              "bul     16467\n",
              "hin      9803\n",
              "kor      6004\n",
              "lav      2081\n",
              "gle      1747\n",
              "hye      1488\n",
              "swa       400\n",
              "Name: lang, dtype: int64"
            ]
          },
          "metadata": {},
          "execution_count": 31
        }
      ],
      "source": [
        "y_train.value_counts()"
      ]
    },
    {
      "cell_type": "markdown",
      "metadata": {
        "id": "OHk7C7h8Xfok"
      },
      "source": [
        "# Model"
      ]
    },
    {
      "cell_type": "code",
      "source": [
        "from joblib import Memory\n",
        "from shutil import rmtree\n",
        "\n",
        "# Create a temporary folder to store the transformers of the pipeline\n",
        "mem = Memory(location=\"/content/cachedir\", verbose=0)"
      ],
      "metadata": {
        "id": "GmSw3tCJKvgB"
      },
      "execution_count": 32,
      "outputs": []
    },
    {
      "cell_type": "code",
      "execution_count": 33,
      "metadata": {
        "id": "MoSM-Nu4VxL3",
        "colab": {
          "base_uri": "https://localhost:8080/"
        },
        "outputId": "10cdea09-4eb4-4a8a-c09e-9d503a1638da"
      },
      "outputs": [
        {
          "output_type": "stream",
          "name": "stdout",
          "text": [
            "________________________________________________________________________________\n",
            "[Memory] Calling sklearn.pipeline._fit_transform_one...\n",
            "_fit_transform_one(TfidfVectorizer(), 5245199                     Мы все это заметили.\n",
            "976984            Tom is seldom late for school.\n",
            "7951323                            이게 전환점인 것 같아.\n",
            "8485234              Ruḥeɣ d asfel ɣef tmurt-iw.\n",
            "6010768                   Ми чекатимемо на тебе.\n",
            "                           ...                  \n",
            "2213971            Бъди много внимателен с това.\n",
            "8619474     Yanni didn't want to practice Islam.\n",
            "8441513    Lehdur-is ttḍurrun, dɣa kkren nɣan-t.\n",
            "2215707                              すぐ行くと約束します。\n",
            "208440                          すぐに医者を呼んできてください。\n",
            "Name: content, Length: 2643093, dtype: object, \n",
            "5245199    rus\n",
            "976984     eng\n",
            "7951323    kor\n",
            "8485234    ber\n",
            "6010768    ukr\n",
            "          ... \n",
            "2213971    bul\n",
            "8619474    eng\n",
            "8441513    ber\n",
            "2215707    jpn\n",
            "208440     jpn\n",
            "Name: lang, Length: 2643093, dtype: object, \n",
            "None, message_clsname='Pipeline', message='(step 1 of 2) Processing TfidfVectorizer')\n",
            "[Pipeline] ... (step 1 of 2) Processing TfidfVectorizer, total=  33.1s\n"
          ]
        },
        {
          "output_type": "stream",
          "name": "stderr",
          "text": [
            "/usr/local/lib/python3.7/dist-packages/sklearn/pipeline.py:355: UserWarning: Persisting input arguments took 33.44s to run.\n",
            "If this happens often in your code, it can cause performance problems \n",
            "(results will be correct in all cases). \n",
            "The reason for this is probably some large input arguments for a wrapped\n",
            " function (e.g. large strings).\n",
            "THIS IS A JOBLIB ISSUE. If you can, kindly provide the joblib's team with an\n",
            " example so that they can fix the problem.\n",
            "  **fit_params_steps[name],\n"
          ]
        },
        {
          "output_type": "stream",
          "name": "stdout",
          "text": [
            "_______________________________________________fit_transform_one - 64.3s, 1.1min\n",
            "[Pipeline] ......... (step 2 of 2) Processing LinearSVC, total= 6.7min\n"
          ]
        },
        {
          "output_type": "execute_result",
          "data": {
            "text/plain": [
              "Pipeline(memory=Memory(location=/content/cachedir/joblib),\n",
              "         steps=[('TfidfVectorizer', TfidfVectorizer()),\n",
              "                ('LinearSVC', LinearSVC())],\n",
              "         verbose=True)"
            ]
          },
          "metadata": {},
          "execution_count": 33
        }
      ],
      "source": [
        "from sklearn.pipeline import Pipeline\n",
        "from sklearn.svm import LinearSVC\n",
        "from sklearn.feature_extraction.text import TfidfVectorizer\n",
        "\n",
        "model = Pipeline([('TfidfVectorizer', TfidfVectorizer()),\n",
        "                     ('LinearSVC', LinearSVC()),],verbose=True,memory=mem)\n",
        "\n",
        "\n",
        "model.fit(x_train, y_train)  \n",
        "\n",
        "\n"
      ]
    },
    {
      "cell_type": "code",
      "execution_count": 34,
      "metadata": {
        "id": "2Yt5OcI1Y2zy"
      },
      "outputs": [],
      "source": [
        "predictions = model.predict(x_test)"
      ]
    },
    {
      "cell_type": "code",
      "execution_count": null,
      "metadata": {
        "id": "4uJplem8Wket"
      },
      "outputs": [],
      "source": [
        "from sklearn import metrics\n",
        "print(metrics.confusion_matrix(y_test,predictions))"
      ]
    },
    {
      "cell_type": "code",
      "execution_count": 36,
      "metadata": {
        "id": "ylR3yrFlW0ks",
        "colab": {
          "base_uri": "https://localhost:8080/"
        },
        "outputId": "06dbd96f-5e3c-4b90-af36-40963a94f1bd"
      },
      "outputs": [
        {
          "output_type": "stream",
          "name": "stdout",
          "text": [
            "              precision    recall  f1-score   support\n",
            "\n",
            "         ara       1.00      0.96      0.98     13647\n",
            "         ber       0.90      0.91      0.90     66199\n",
            "         bul       0.99      0.96      0.98      8054\n",
            "         dan       0.99      0.99      0.99     17815\n",
            "         deu       1.00      1.00      1.00     65338\n",
            "         ell       1.00      0.98      0.99     11493\n",
            "         eng       1.00      1.00      1.00    103527\n",
            "         fas       1.00      0.99      0.99      8141\n",
            "         fin       1.00      0.98      0.99     45547\n",
            "         fra       1.00      1.00      1.00     89902\n",
            "         gle       0.99      0.94      0.97       898\n",
            "         heb       1.00      0.99      1.00     65631\n",
            "         hin       1.00      0.91      0.95      4756\n",
            "         hun       1.00      0.97      0.99     64152\n",
            "         hye       1.00      0.91      0.95       761\n",
            "         ita       1.00      0.99      0.99     89908\n",
            "         jpn       0.67      1.00      0.80     72271\n",
            "         kab       0.90      0.87      0.89     57800\n",
            "         kor       1.00      0.87      0.93      2943\n",
            "         lav       0.99      0.93      0.96       967\n",
            "         nld       1.00      0.99      0.99     50585\n",
            "         pol       1.00      0.98      0.99     38339\n",
            "         por       1.00      0.99      0.99     71819\n",
            "         rus       0.99      0.99      0.99    101757\n",
            "         spa       0.99      0.99      0.99     66727\n",
            "         swa       0.99      0.74      0.85       191\n",
            "         swe       0.99      0.97      0.98     15008\n",
            "         tur       0.99      0.99      0.99     80669\n",
            "         ukr       0.99      0.98      0.98     58666\n",
            "         zho       0.99      0.05      0.09     28311\n",
            "\n",
            "    accuracy                           0.96   1301822\n",
            "   macro avg       0.98      0.93      0.94   1301822\n",
            "weighted avg       0.97      0.96      0.95   1301822\n",
            "\n"
          ]
        }
      ],
      "source": [
        "#from sklearn import metrics\n",
        "print(metrics.classification_report(y_test,predictions))"
      ]
    },
    {
      "cell_type": "code",
      "execution_count": 37,
      "metadata": {
        "colab": {
          "base_uri": "https://localhost:8080/"
        },
        "id": "5-gwB4OKW4Ye",
        "outputId": "5614de4f-144e-4dc2-e5d2-9e61d70b09be"
      },
      "outputs": [
        {
          "output_type": "execute_result",
          "data": {
            "text/plain": [
              "0.9587969783887506"
            ]
          },
          "metadata": {},
          "execution_count": 37
        }
      ],
      "source": [
        "metrics.accuracy_score(y_test,predictions)"
      ]
    },
    {
      "cell_type": "code",
      "execution_count": 38,
      "metadata": {
        "colab": {
          "base_uri": "https://localhost:8080/",
          "height": 35
        },
        "id": "OuCtJl8CW9Gz",
        "outputId": "6600c454-9988-4e78-e045-5b0a1ad27dcb"
      },
      "outputs": [
        {
          "output_type": "execute_result",
          "data": {
            "text/plain": [
              "'kor'"
            ],
            "application/vnd.google.colaboratory.intrinsic+json": {
              "type": "string"
            }
          },
          "metadata": {},
          "execution_count": 38
        }
      ],
      "source": [
        "model.predict(['그러나 주로 개인적인 용도로 이용되는 위키도 있는데, 이를 개인 위키라고 한다.'])[0] "
      ]
    },
    {
      "cell_type": "code",
      "execution_count": 39,
      "metadata": {
        "colab": {
          "base_uri": "https://localhost:8080/",
          "height": 35
        },
        "id": "sQxJ7CURiwAM",
        "outputId": "7d2fc5cc-9643-429f-8434-7efee06e9b38"
      },
      "outputs": [
        {
          "output_type": "execute_result",
          "data": {
            "text/plain": [
              "'heb'"
            ],
            "application/vnd.google.colaboratory.intrinsic+json": {
              "type": "string"
            }
          },
          "metadata": {},
          "execution_count": 39
        }
      ],
      "source": [
        "model.predict(['ויקי יכולה להיות שיטה טובה לשיתוף ידע בקהילות שפועלות באמצעות האינטרנט או בתוךיות. היא חלופה'])[0]"
      ]
    },
    {
      "cell_type": "code",
      "execution_count": 40,
      "metadata": {
        "colab": {
          "base_uri": "https://localhost:8080/",
          "height": 35
        },
        "id": "FjgXnAGHiwjm",
        "outputId": "17c11cf8-e656-4fab-e6b0-8a4f2ed16c5d"
      },
      "outputs": [
        {
          "output_type": "execute_result",
          "data": {
            "text/plain": [
              "'deu'"
            ],
            "application/vnd.google.colaboratory.intrinsic+json": {
              "type": "string"
            }
          },
          "metadata": {},
          "execution_count": 40
        }
      ],
      "source": [
        "model.predict(['einsetzt. Zudem nutzen auch viele '])[0]"
      ]
    },
    {
      "cell_type": "code",
      "execution_count": 43,
      "metadata": {
        "colab": {
          "base_uri": "https://localhost:8080/",
          "height": 35
        },
        "id": "vRB_PiDWjZf6",
        "outputId": "2ddf6983-963b-4a4e-d106-c3f1ee520813"
      },
      "outputs": [
        {
          "output_type": "execute_result",
          "data": {
            "text/plain": [
              "'ara'"
            ],
            "application/vnd.google.colaboratory.intrinsic+json": {
              "type": "string"
            }
          },
          "metadata": {},
          "execution_count": 43
        }
      ],
      "source": [
        "model.predict(['الكرام بتحويل الكتابة العربي الى كتابة مفهومة من قبل اغلب برامج التصميم مثل الفوتوشوب و الافترايفكتس و البريمير و الافد ميدا كومبوزر و السموك و برامج اخرى'])[0]"
      ]
    },
    {
      "cell_type": "code",
      "execution_count": 44,
      "metadata": {
        "colab": {
          "base_uri": "https://localhost:8080/",
          "height": 35
        },
        "id": "6qVsUhPhkES_",
        "outputId": "1fd4f36e-96a9-4496-948a-63424a3de146"
      },
      "outputs": [
        {
          "output_type": "execute_result",
          "data": {
            "text/plain": [
              "'hin'"
            ],
            "application/vnd.google.colaboratory.intrinsic+json": {
              "type": "string"
            }
          },
          "metadata": {},
          "execution_count": 44
        }
      ],
      "source": [
        "model.predict(['से प्रत्येक एक विशिष्ट भाषा से संबंधित है। विकिपीडिया के अलावा, सार्वजनिक और निजी दोनों उपयोग में सैकड़ों हजारों अ'])[0]"
      ]
    },
    {
      "cell_type": "markdown",
      "source": [
        "# Model persistence"
      ],
      "metadata": {
        "id": "RCjBWMXbGhv6"
      }
    },
    {
      "cell_type": "code",
      "source": [
        "from joblib import dump\n",
        "dump(model, 'lang_detector.joblib') "
      ],
      "metadata": {
        "id": "EdaB3qyFGMz1",
        "outputId": "a660e408-d7e6-4f78-f964-b413a84241f2",
        "colab": {
          "base_uri": "https://localhost:8080/"
        }
      },
      "execution_count": 46,
      "outputs": [
        {
          "output_type": "execute_result",
          "data": {
            "text/plain": [
              "['lang_detector.joblib']"
            ]
          },
          "metadata": {},
          "execution_count": 46
        }
      ]
    }
  ],
  "metadata": {
    "colab": {
      "name": "ML_lang_detector.ipynb",
      "provenance": [],
      "collapsed_sections": [],
      "authorship_tag": "ABX9TyMw6TSkr2UeNLxm29k70BP8",
      "include_colab_link": true
    },
    "kernelspec": {
      "display_name": "Python 3",
      "name": "python3"
    },
    "language_info": {
      "name": "python"
    }
  },
  "nbformat": 4,
  "nbformat_minor": 0
}