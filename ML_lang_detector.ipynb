{
  "cells": [
    {
      "cell_type": "markdown",
      "metadata": {
        "id": "view-in-github",
        "colab_type": "text"
      },
      "source": [
        "<a href=\"https://colab.research.google.com/github/mdjamina/m1_ml_lang_detector/blob/main/ML_lang_detector.ipynb\" target=\"_parent\"><img src=\"https://colab.research.google.com/assets/colab-badge.svg\" alt=\"Open In Colab\"/></a>"
      ]
    },
    {
      "cell_type": "markdown",
      "source": [
        "# Corpus\n",
        "[Tatoeba](https://tatoeba.org/fr/downloads\n",
        ") est une collection de phrases et de traductions."
      ],
      "metadata": {
        "id": "wsWqzNezu3vU"
      }
    },
    {
      "cell_type": "markdown",
      "source": [
        "## Téléchargement du corpus"
      ],
      "metadata": {
        "id": "196D3ZglvjxK"
      }
    },
    {
      "cell_type": "code",
      "execution_count": null,
      "metadata": {
        "id": "oneUsG0fI-UH",
        "colab": {
          "base_uri": "https://localhost:8080/"
        },
        "outputId": "286dc206-492d-4781-bb9f-44c1c2791f5b"
      },
      "outputs": [
        {
          "output_type": "stream",
          "name": "stdout",
          "text": [
            "--2022-03-09 23:57:27--  https://downloads.tatoeba.org/exports/sentences.tar.bz2\r\n",
            "Résolution de downloads.tatoeba.org (downloads.tatoeba.org)… 94.130.77.194\r\n",
            "Connexion à downloads.tatoeba.org (downloads.tatoeba.org)|94.130.77.194|:443… connecté.\n",
            "requête HTTP transmise, en attente de la réponse… 200 OK\n",
            "Taille : 160000593 (153M) [application/octet-stream]\n",
            "Enregistre : ‘sentences.tar.bz2’\n",
            "\n",
            "sentences.tar.bz2   100%[===================>] 152,59M  2,54MB/s    ds 46s     \n",
            "\n",
            "2022-03-09 23:58:13 (3,33 MB/s) - ‘sentences.tar.bz2’ enregistré [160000593/160000593]\n",
            "\n"
          ]
        }
      ],
      "source": [
        "!wget https://downloads.tatoeba.org/exports/sentences.tar.bz2"
      ]
    },
    {
      "cell_type": "code",
      "source": [
        "!wget https://iso639-3.sil.org/sites/iso639-3/files/downloads/iso-639-3-macrolanguages.tab"
      ],
      "metadata": {
        "id": "FFguKn65-rgO"
      },
      "execution_count": null,
      "outputs": []
    },
    {
      "cell_type": "markdown",
      "source": [
        "Extraction de l'archive téléchargée "
      ],
      "metadata": {
        "id": "L9dop-NpvqVh"
      }
    },
    {
      "cell_type": "code",
      "execution_count": null,
      "metadata": {
        "id": "vPzTKS9UWwNg"
      },
      "outputs": [],
      "source": [
        "!tar -xf ./sentences.tar.bz2 "
      ]
    },
    {
      "cell_type": "markdown",
      "metadata": {
        "id": "G86sykMcXWUw"
      },
      "source": [
        "## Chargement du corpus"
      ]
    },
    {
      "cell_type": "code",
      "execution_count": null,
      "metadata": {
        "colab": {
          "background_save": true
        },
        "id": "vfuGdL6Z0KcE"
      },
      "outputs": [],
      "source": [
        "langs =['eng','pol','deu','fra','spa','ita','tur','por','ara','ckb','rus','ukr']"
      ]
    },
    {
      "cell_type": "code",
      "execution_count": null,
      "metadata": {
        "id": "4oMo0Uvp0wek",
        "colab": {
          "base_uri": "https://localhost:8080/",
          "height": 424
        },
        "outputId": "338fad48-f06c-432e-be6e-44e07f455394"
      },
      "outputs": [
        {
          "output_type": "execute_result",
          "data": {
            "text/plain": [
              "               x       id I_Id                                        content\n",
              "0        5481486  5834504  eng      I think we should ask Tom to sing for us.\n",
              "1        7346165  7747639  ita                      Tom voleva dire qualcosa.\n",
              "2        3870380  4121281  tur            Tom seni benim kadar iyi tanımıyor.\n",
              "3         908111   952134  pol  Nie podoba mi się, jak się z niej wyśmiewasz.\n",
              "4        2561541  2716415  por                  Talvez em outra oportunidade!\n",
              "...          ...      ...  ...                                            ...\n",
              "1025215  1332637  1410208  fra                  Je ne l'ai jamais rencontrée.\n",
              "1025216  7337354  7738722  kab                           Ṭṭfent-asen-tent-id.\n",
              "1025217  7120657  7513990  eng     I know Tom isn't going to want to do that.\n",
              "1025218  1403948  1485378  cmn                                       你是不會說話嗎?\n",
              "1025219  4399236  4688310  tur              Tom umursamıyormuş gibi davrandı.\n",
              "\n",
              "[1025220 rows x 4 columns]"
            ],
            "text/html": [
              "<div>\n",
              "<style scoped>\n",
              "    .dataframe tbody tr th:only-of-type {\n",
              "        vertical-align: middle;\n",
              "    }\n",
              "\n",
              "    .dataframe tbody tr th {\n",
              "        vertical-align: top;\n",
              "    }\n",
              "\n",
              "    .dataframe thead th {\n",
              "        text-align: right;\n",
              "    }\n",
              "</style>\n",
              "<table border=\"1\" class=\"dataframe\">\n",
              "  <thead>\n",
              "    <tr style=\"text-align: right;\">\n",
              "      <th></th>\n",
              "      <th>x</th>\n",
              "      <th>id</th>\n",
              "      <th>I_Id</th>\n",
              "      <th>content</th>\n",
              "    </tr>\n",
              "  </thead>\n",
              "  <tbody>\n",
              "    <tr>\n",
              "      <th>0</th>\n",
              "      <td>5481486</td>\n",
              "      <td>5834504</td>\n",
              "      <td>eng</td>\n",
              "      <td>I think we should ask Tom to sing for us.</td>\n",
              "    </tr>\n",
              "    <tr>\n",
              "      <th>1</th>\n",
              "      <td>7346165</td>\n",
              "      <td>7747639</td>\n",
              "      <td>ita</td>\n",
              "      <td>Tom voleva dire qualcosa.</td>\n",
              "    </tr>\n",
              "    <tr>\n",
              "      <th>2</th>\n",
              "      <td>3870380</td>\n",
              "      <td>4121281</td>\n",
              "      <td>tur</td>\n",
              "      <td>Tom seni benim kadar iyi tanımıyor.</td>\n",
              "    </tr>\n",
              "    <tr>\n",
              "      <th>3</th>\n",
              "      <td>908111</td>\n",
              "      <td>952134</td>\n",
              "      <td>pol</td>\n",
              "      <td>Nie podoba mi się, jak się z niej wyśmiewasz.</td>\n",
              "    </tr>\n",
              "    <tr>\n",
              "      <th>4</th>\n",
              "      <td>2561541</td>\n",
              "      <td>2716415</td>\n",
              "      <td>por</td>\n",
              "      <td>Talvez em outra oportunidade!</td>\n",
              "    </tr>\n",
              "    <tr>\n",
              "      <th>...</th>\n",
              "      <td>...</td>\n",
              "      <td>...</td>\n",
              "      <td>...</td>\n",
              "      <td>...</td>\n",
              "    </tr>\n",
              "    <tr>\n",
              "      <th>1025215</th>\n",
              "      <td>1332637</td>\n",
              "      <td>1410208</td>\n",
              "      <td>fra</td>\n",
              "      <td>Je ne l'ai jamais rencontrée.</td>\n",
              "    </tr>\n",
              "    <tr>\n",
              "      <th>1025216</th>\n",
              "      <td>7337354</td>\n",
              "      <td>7738722</td>\n",
              "      <td>kab</td>\n",
              "      <td>Ṭṭfent-asen-tent-id.</td>\n",
              "    </tr>\n",
              "    <tr>\n",
              "      <th>1025217</th>\n",
              "      <td>7120657</td>\n",
              "      <td>7513990</td>\n",
              "      <td>eng</td>\n",
              "      <td>I know Tom isn't going to want to do that.</td>\n",
              "    </tr>\n",
              "    <tr>\n",
              "      <th>1025218</th>\n",
              "      <td>1403948</td>\n",
              "      <td>1485378</td>\n",
              "      <td>cmn</td>\n",
              "      <td>你是不會說話嗎?</td>\n",
              "    </tr>\n",
              "    <tr>\n",
              "      <th>1025219</th>\n",
              "      <td>4399236</td>\n",
              "      <td>4688310</td>\n",
              "      <td>tur</td>\n",
              "      <td>Tom umursamıyormuş gibi davrandı.</td>\n",
              "    </tr>\n",
              "  </tbody>\n",
              "</table>\n",
              "<p>1025220 rows × 4 columns</p>\n",
              "</div>"
            ]
          },
          "metadata": {},
          "execution_count": 1
        }
      ],
      "source": [
        "import pandas as pd\n",
        "\n",
        "data = pd.read_csv('./sentences_dev.csv', sep='\\t', header=None)\n",
        "data.columns = ['x','id','I_Id', 'content']\n",
        "data"
      ]
    },
    {
      "cell_type": "markdown",
      "source": [
        "## Nettoyage des données"
      ],
      "metadata": {
        "id": "hTZWUApPwVBu"
      }
    },
    {
      "cell_type": "code",
      "execution_count": null,
      "metadata": {
        "colab": {
          "base_uri": "https://localhost:8080/"
        },
        "id": "q63Rw6tUdAzz",
        "outputId": "0254c330-e23c-481c-dd75-f5deb7d7f68b"
      },
      "outputs": [
        {
          "output_type": "execute_result",
          "data": {
            "text/plain": [
              "id         False\n",
              "I_Id       False\n",
              "content    False\n",
              "dtype: bool"
            ]
          },
          "metadata": {},
          "execution_count": 7
        }
      ],
      "source": [
        "#identification des colonnes qui contiennent des valeurs NAN (non renseignées)\n",
        "data.isnull().any()"
      ]
    },
    {
      "cell_type": "code",
      "execution_count": null,
      "metadata": {
        "id": "D5buIJIPdOAM"
      },
      "outputs": [],
      "source": [
        "#suppression des valeurs NAN\n",
        "data.dropna(subset = [\"I_Id\"], inplace=True)\n"
      ]
    },
    {
      "cell_type": "markdown",
      "source": [
        "## regrouppement des dialects par langue principale"
      ],
      "metadata": {
        "id": "GVKC4NSUw8rq"
      }
    },
    {
      "cell_type": "code",
      "source": [
        "#TODO\n",
        "# site iso langues avec leur regroupement\n",
        "# telecharger fichier csv(iso) contient : langue : arb=dz, ara=egy ..,  le telecharger avec  pandas data frames "
      ],
      "metadata": {
        "id": "4lbZcuUMxHJF"
      },
      "execution_count": null,
      "outputs": []
    },
    {
      "cell_type": "code",
      "source": [
        "macro_lang = pd.read_csv('/content/iso-639-3-macrolanguages.tab', sep='\\t', header=None)\n",
        "macro_lang.columns = ['lang',\t'I_Id',\t'I_Status']\n",
        "\n",
        "macro_lang"
      ],
      "metadata": {
        "colab": {
          "base_uri": "https://localhost:8080/",
          "height": 424
        },
        "id": "aAPKDG9l-6hO",
        "outputId": "eea3164f-8e9b-457a-dd50-057307cd2d36"
      },
      "execution_count": null,
      "outputs": [
        {
          "output_type": "execute_result",
          "data": {
            "text/html": [
              "\n",
              "  <div id=\"df-d8fc3a10-c612-4fb4-a4a1-99abb44e5387\">\n",
              "    <div class=\"colab-df-container\">\n",
              "      <div>\n",
              "<style scoped>\n",
              "    .dataframe tbody tr th:only-of-type {\n",
              "        vertical-align: middle;\n",
              "    }\n",
              "\n",
              "    .dataframe tbody tr th {\n",
              "        vertical-align: top;\n",
              "    }\n",
              "\n",
              "    .dataframe thead th {\n",
              "        text-align: right;\n",
              "    }\n",
              "</style>\n",
              "<table border=\"1\" class=\"dataframe\">\n",
              "  <thead>\n",
              "    <tr style=\"text-align: right;\">\n",
              "      <th></th>\n",
              "      <th>lang</th>\n",
              "      <th>I_Id</th>\n",
              "      <th>I_Status</th>\n",
              "    </tr>\n",
              "  </thead>\n",
              "  <tbody>\n",
              "    <tr>\n",
              "      <th>0</th>\n",
              "      <td>M_Id</td>\n",
              "      <td>I_Id</td>\n",
              "      <td>I_Status</td>\n",
              "    </tr>\n",
              "    <tr>\n",
              "      <th>1</th>\n",
              "      <td>aka</td>\n",
              "      <td>fat</td>\n",
              "      <td>A</td>\n",
              "    </tr>\n",
              "    <tr>\n",
              "      <th>2</th>\n",
              "      <td>aka</td>\n",
              "      <td>twi</td>\n",
              "      <td>A</td>\n",
              "    </tr>\n",
              "    <tr>\n",
              "      <th>3</th>\n",
              "      <td>ara</td>\n",
              "      <td>aao</td>\n",
              "      <td>A</td>\n",
              "    </tr>\n",
              "    <tr>\n",
              "      <th>4</th>\n",
              "      <td>ara</td>\n",
              "      <td>abh</td>\n",
              "      <td>A</td>\n",
              "    </tr>\n",
              "    <tr>\n",
              "      <th>...</th>\n",
              "      <td>...</td>\n",
              "      <td>...</td>\n",
              "      <td>...</td>\n",
              "    </tr>\n",
              "    <tr>\n",
              "      <th>450</th>\n",
              "      <td>zho</td>\n",
              "      <td>NaN</td>\n",
              "      <td>A</td>\n",
              "    </tr>\n",
              "    <tr>\n",
              "      <th>451</th>\n",
              "      <td>zho</td>\n",
              "      <td>wuu</td>\n",
              "      <td>A</td>\n",
              "    </tr>\n",
              "    <tr>\n",
              "      <th>452</th>\n",
              "      <td>zho</td>\n",
              "      <td>yue</td>\n",
              "      <td>A</td>\n",
              "    </tr>\n",
              "    <tr>\n",
              "      <th>453</th>\n",
              "      <td>zza</td>\n",
              "      <td>diq</td>\n",
              "      <td>A</td>\n",
              "    </tr>\n",
              "    <tr>\n",
              "      <th>454</th>\n",
              "      <td>zza</td>\n",
              "      <td>kiu</td>\n",
              "      <td>A</td>\n",
              "    </tr>\n",
              "  </tbody>\n",
              "</table>\n",
              "<p>455 rows × 3 columns</p>\n",
              "</div>\n",
              "      <button class=\"colab-df-convert\" onclick=\"convertToInteractive('df-d8fc3a10-c612-4fb4-a4a1-99abb44e5387')\"\n",
              "              title=\"Convert this dataframe to an interactive table.\"\n",
              "              style=\"display:none;\">\n",
              "        \n",
              "  <svg xmlns=\"http://www.w3.org/2000/svg\" height=\"24px\"viewBox=\"0 0 24 24\"\n",
              "       width=\"24px\">\n",
              "    <path d=\"M0 0h24v24H0V0z\" fill=\"none\"/>\n",
              "    <path d=\"M18.56 5.44l.94 2.06.94-2.06 2.06-.94-2.06-.94-.94-2.06-.94 2.06-2.06.94zm-11 1L8.5 8.5l.94-2.06 2.06-.94-2.06-.94L8.5 2.5l-.94 2.06-2.06.94zm10 10l.94 2.06.94-2.06 2.06-.94-2.06-.94-.94-2.06-.94 2.06-2.06.94z\"/><path d=\"M17.41 7.96l-1.37-1.37c-.4-.4-.92-.59-1.43-.59-.52 0-1.04.2-1.43.59L10.3 9.45l-7.72 7.72c-.78.78-.78 2.05 0 2.83L4 21.41c.39.39.9.59 1.41.59.51 0 1.02-.2 1.41-.59l7.78-7.78 2.81-2.81c.8-.78.8-2.07 0-2.86zM5.41 20L4 18.59l7.72-7.72 1.47 1.35L5.41 20z\"/>\n",
              "  </svg>\n",
              "      </button>\n",
              "      \n",
              "  <style>\n",
              "    .colab-df-container {\n",
              "      display:flex;\n",
              "      flex-wrap:wrap;\n",
              "      gap: 12px;\n",
              "    }\n",
              "\n",
              "    .colab-df-convert {\n",
              "      background-color: #E8F0FE;\n",
              "      border: none;\n",
              "      border-radius: 50%;\n",
              "      cursor: pointer;\n",
              "      display: none;\n",
              "      fill: #1967D2;\n",
              "      height: 32px;\n",
              "      padding: 0 0 0 0;\n",
              "      width: 32px;\n",
              "    }\n",
              "\n",
              "    .colab-df-convert:hover {\n",
              "      background-color: #E2EBFA;\n",
              "      box-shadow: 0px 1px 2px rgba(60, 64, 67, 0.3), 0px 1px 3px 1px rgba(60, 64, 67, 0.15);\n",
              "      fill: #174EA6;\n",
              "    }\n",
              "\n",
              "    [theme=dark] .colab-df-convert {\n",
              "      background-color: #3B4455;\n",
              "      fill: #D2E3FC;\n",
              "    }\n",
              "\n",
              "    [theme=dark] .colab-df-convert:hover {\n",
              "      background-color: #434B5C;\n",
              "      box-shadow: 0px 1px 3px 1px rgba(0, 0, 0, 0.15);\n",
              "      filter: drop-shadow(0px 1px 2px rgba(0, 0, 0, 0.3));\n",
              "      fill: #FFFFFF;\n",
              "    }\n",
              "  </style>\n",
              "\n",
              "      <script>\n",
              "        const buttonEl =\n",
              "          document.querySelector('#df-d8fc3a10-c612-4fb4-a4a1-99abb44e5387 button.colab-df-convert');\n",
              "        buttonEl.style.display =\n",
              "          google.colab.kernel.accessAllowed ? 'block' : 'none';\n",
              "\n",
              "        async function convertToInteractive(key) {\n",
              "          const element = document.querySelector('#df-d8fc3a10-c612-4fb4-a4a1-99abb44e5387');\n",
              "          const dataTable =\n",
              "            await google.colab.kernel.invokeFunction('convertToInteractive',\n",
              "                                                     [key], {});\n",
              "          if (!dataTable) return;\n",
              "\n",
              "          const docLinkHtml = 'Like what you see? Visit the ' +\n",
              "            '<a target=\"_blank\" href=https://colab.research.google.com/notebooks/data_table.ipynb>data table notebook</a>'\n",
              "            + ' to learn more about interactive tables.';\n",
              "          element.innerHTML = '';\n",
              "          dataTable['output_type'] = 'display_data';\n",
              "          await google.colab.output.renderOutput(dataTable, element);\n",
              "          const docLink = document.createElement('div');\n",
              "          docLink.innerHTML = docLinkHtml;\n",
              "          element.appendChild(docLink);\n",
              "        }\n",
              "      </script>\n",
              "    </div>\n",
              "  </div>\n",
              "  "
            ],
            "text/plain": [
              "     lang  I_Id  I_Status\n",
              "0    M_Id  I_Id  I_Status\n",
              "1     aka   fat         A\n",
              "2     aka   twi         A\n",
              "3     ara   aao         A\n",
              "4     ara   abh         A\n",
              "..    ...   ...       ...\n",
              "450   zho   NaN         A\n",
              "451   zho   wuu         A\n",
              "452   zho   yue         A\n",
              "453   zza   diq         A\n",
              "454   zza   kiu         A\n",
              "\n",
              "[455 rows x 3 columns]"
            ]
          },
          "metadata": {},
          "execution_count": 14
        }
      ]
    },
    {
      "cell_type": "markdown",
      "metadata": {
        "id": "DIiE3aUbXarg"
      },
      "source": [
        "# pre-processing"
      ]
    },
    {
      "cell_type": "markdown",
      "source": [
        ""
      ],
      "metadata": {
        "id": "lbJe4djG4dWf"
      }
    },
    {
      "cell_type": "code",
      "execution_count": null,
      "metadata": {
        "id": "tphceITAeQWP"
      },
      "outputs": [],
      "source": [
        "data_counts = pd.DataFrame( data['lang'].value_counts(), columns=['lang','count'] )"
      ]
    },
    {
      "cell_type": "code",
      "execution_count": null,
      "metadata": {
        "id": "rcedObo2KiH6"
      },
      "outputs": [],
      "source": [
        "data_counts[data_counts['lang']<100]"
      ]
    },
    {
      "cell_type": "markdown",
      "source": [
        "## TODO"
      ],
      "metadata": {
        "id": "btFasJzVxuFv"
      }
    },
    {
      "cell_type": "markdown",
      "source": [
        ""
      ],
      "metadata": {
        "id": "zP19OAAt4iM0"
      }
    },
    {
      "cell_type": "code",
      "execution_count": null,
      "metadata": {
        "id": "3WwvVw8Yrxqg"
      },
      "outputs": [],
      "source": [
        "from sklearn.model_selection import train_test_split \n",
        "\n",
        "x_train, x_test, y_train, y_test = train_test_split(data['content'], data['I_Id'], test_size=0.33, random_state=1) \n",
        "# ramdom_state = meme corpus (meme decoupage, decouper en 2 train et test le corpus, car on a besoin de faire les tests)"
      ]
    },
    {
      "cell_type": "code",
      "execution_count": null,
      "metadata": {
        "colab": {
          "base_uri": "https://localhost:8080/"
        },
        "id": "kJ16poLjqJ2Q",
        "outputId": "c3fb6789-0b9d-4c17-a283-9f807bdd076f"
      },
      "outputs": [
        {
          "output_type": "execute_result",
          "data": {
            "text/plain": [
              "eng    1052272\n",
              "rus     604660\n",
              "ita     537404\n",
              "tur     480100\n",
              "epo     457019\n",
              "        ...   \n",
              "mnr          1\n",
              "pli          1\n",
              "lou          1\n",
              "gom          1\n",
              "cyo          1\n",
              "Name: I_Id, Length: 400, dtype: int64"
            ]
          },
          "metadata": {},
          "execution_count": 7
        }
      ],
      "source": [
        "y_train.value_counts()"
      ]
    },
    {
      "cell_type": "markdown",
      "metadata": {
        "id": "OHk7C7h8Xfok"
      },
      "source": [
        "# Model"
      ]
    },
    {
      "cell_type": "code",
      "execution_count": null,
      "metadata": {
        "id": "MoSM-Nu4VxL3",
        "colab": {
          "base_uri": "https://localhost:8080/"
        },
        "outputId": "7f93b359-938d-488c-882a-d54d5cea72e2"
      },
      "outputs": [
        {
          "output_type": "stream",
          "name": "stdout",
          "text": [
            "[Pipeline] ... (step 1 of 2) Processing TfidfVectorizer, total=   4.2s\n",
            "[Pipeline] ......... (step 2 of 2) Processing LinearSVC, total= 9.0min\n"
          ]
        },
        {
          "output_type": "execute_result",
          "data": {
            "text/plain": [
              "Pipeline(steps=[('TfidfVectorizer', TfidfVectorizer()),\n",
              "                ('LinearSVC', LinearSVC())],\n",
              "         verbose=True)"
            ]
          },
          "metadata": {},
          "execution_count": 4
        }
      ],
      "source": [
        "from sklearn.pipeline import Pipeline\n",
        "from sklearn.svm import LinearSVC\n",
        "from sklearn.feature_extraction.text import TfidfVectorizer\n",
        "\n",
        "model = Pipeline([('TfidfVectorizer', TfidfVectorizer()),\n",
        "                     ('LinearSVC', LinearSVC()),],verbose=True)\n",
        "\n",
        "\n",
        "model.fit(x_train, y_train)  \n",
        "\n",
        "\n"
      ]
    },
    {
      "cell_type": "code",
      "execution_count": null,
      "metadata": {
        "id": "2Yt5OcI1Y2zy"
      },
      "outputs": [],
      "source": [
        "predictions = model.predict(x_test)"
      ]
    },
    {
      "cell_type": "code",
      "execution_count": null,
      "metadata": {
        "colab": {
          "base_uri": "https://localhost:8080/"
        },
        "id": "4uJplem8Wket",
        "outputId": "cfb62243-3bd2-4e70-ad53-861aad663d22"
      },
      "outputs": [
        {
          "output_type": "stream",
          "name": "stdout",
          "text": [
            "[[ 0  0  0 ...  0  0  1]\n",
            " [ 0  0  0 ...  0  0  0]\n",
            " [ 0  0  0 ...  0  0  0]\n",
            " ...\n",
            " [ 0  0  0 ... 95  0  0]\n",
            " [ 0  0  0 ...  0  0  0]\n",
            " [ 0  0  0 ...  0  0 16]]\n"
          ]
        }
      ],
      "source": [
        "from sklearn import metrics\n",
        "print(metrics.confusion_matrix(y_test,predictions))"
      ]
    },
    {
      "cell_type": "code",
      "execution_count": null,
      "metadata": {
        "id": "ylR3yrFlW0ks",
        "colab": {
          "base_uri": "https://localhost:8080/"
        },
        "outputId": "401521a0-52b3-49aa-c69d-ccb63cd68712"
      },
      "outputs": [
        {
          "output_type": "stream",
          "name": "stderr",
          "text": [
            "/home/amina/.local/lib/python3.9/site-packages/sklearn/metrics/_classification.py:1318: UndefinedMetricWarning: Precision and F-score are ill-defined and being set to 0.0 in labels with no predicted samples. Use `zero_division` parameter to control this behavior.\n",
            "  _warn_prf(average, modifier, msg_start, len(result))\n",
            "/home/amina/.local/lib/python3.9/site-packages/sklearn/metrics/_classification.py:1318: UndefinedMetricWarning: Recall and F-score are ill-defined and being set to 0.0 in labels with no true samples. Use `zero_division` parameter to control this behavior.\n",
            "  _warn_prf(average, modifier, msg_start, len(result))\n",
            "/home/amina/.local/lib/python3.9/site-packages/sklearn/metrics/_classification.py:1318: UndefinedMetricWarning: Precision and F-score are ill-defined and being set to 0.0 in labels with no predicted samples. Use `zero_division` parameter to control this behavior.\n",
            "  _warn_prf(average, modifier, msg_start, len(result))\n",
            "/home/amina/.local/lib/python3.9/site-packages/sklearn/metrics/_classification.py:1318: UndefinedMetricWarning: Recall and F-score are ill-defined and being set to 0.0 in labels with no true samples. Use `zero_division` parameter to control this behavior.\n",
            "  _warn_prf(average, modifier, msg_start, len(result))\n"
          ]
        },
        {
          "output_type": "stream",
          "name": "stdout",
          "text": [
            "              precision    recall  f1-score   support\n",
            "\n",
            "          \\N       0.00      0.00      0.00         8\n",
            "         abk       0.00      0.00      0.00         2\n",
            "         acm       0.00      0.00      0.00         1\n",
            "         ady       0.00      0.00      0.00         1\n",
            "         afb       0.00      0.00      0.00         4\n",
            "         afh       0.00      0.00      0.00         2\n",
            "         afr       0.89      0.68      0.77       128\n",
            "         ain       1.00      0.33      0.50        12\n",
            "         akl       0.00      0.00      0.00         2\n",
            "         aln       0.00      0.00      0.00         2\n",
            "         amh       1.00      0.30      0.46        10\n",
            "         ang       0.67      0.27      0.38        15\n",
            "         aoz       0.00      0.00      0.00         2\n",
            "         apc       1.00      0.33      0.50         3\n",
            "         ara       0.95      0.92      0.94      1301\n",
            "         arg       0.50      0.17      0.25         6\n",
            "         arq       0.75      0.55      0.63        66\n",
            "         ary       0.00      0.00      0.00         1\n",
            "         arz       0.89      0.24      0.37        34\n",
            "         asm       0.92      0.73      0.82       113\n",
            "         ast       0.00      0.00      0.00        14\n",
            "         avk       0.92      0.67      0.77       146\n",
            "         awa       0.75      0.27      0.40        11\n",
            "         aze       0.95      0.55      0.70       178\n",
            "         bak       0.00      0.00      0.00         8\n",
            "         bal       1.00      0.50      0.67         2\n",
            "         bam       0.00      0.00      0.00         1\n",
            "         bar       0.00      0.00      0.00         6\n",
            "         bel       0.97      0.69      0.80       447\n",
            "         ben       0.92      0.86      0.89       168\n",
            "         ber       0.87      0.89      0.88     19311\n",
            "         bho       0.00      0.00      0.00         1\n",
            "         bis       0.00      0.00      0.00         1\n",
            "         bjn       0.00      0.00      0.00         2\n",
            "         bod       1.00      1.00      1.00         1\n",
            "         bom       0.00      0.00      0.00         1\n",
            "         bos       0.25      0.05      0.08        22\n",
            "         bre       0.93      0.80      0.86       240\n",
            "         brx       0.00      0.00      0.00         2\n",
            "         bua       0.92      0.38      0.54        29\n",
            "         bul       0.95      0.77      0.85       812\n",
            "         bzt       1.00      0.60      0.75         5\n",
            "         cat       0.94      0.69      0.80       280\n",
            "         cay       0.00      0.00      0.00         1\n",
            "         cbk       0.76      0.63      0.69        70\n",
            "         ceb       0.93      0.25      0.39        52\n",
            "         ces       0.93      0.93      0.93      2114\n",
            "         cha       1.00      0.44      0.62         9\n",
            "         che       0.00      0.00      0.00         2\n",
            "         chn       1.00      0.80      0.89         5\n",
            "         cho       0.75      0.60      0.67         5\n",
            "         chr       0.00      0.00      0.00         1\n",
            "         chv       0.93      0.78      0.85        50\n",
            "         ckb       0.96      0.90      0.93       333\n",
            "         ckt       0.90      0.75      0.82        12\n",
            "         cmn       0.93      0.02      0.03      2419\n",
            "         cmo       0.00      0.00      0.00         5\n",
            "         cor       0.90      0.84      0.87       115\n",
            "         cos       0.00      0.00      0.00         1\n",
            "         crh       0.50      0.12      0.20         8\n",
            "         csb       0.94      0.56      0.70        27\n",
            "        cycl       0.00      0.00      0.00         2\n",
            "         cym       0.93      0.76      0.84        54\n",
            "         dan       0.88      0.94      0.91      1775\n",
            "         deu       0.99      1.00      0.99     19257\n",
            "         dsb       0.81      0.34      0.48        50\n",
            "         dtp       0.86      0.79      0.82        89\n",
            "         dws       0.00      0.00      0.00         2\n",
            "         egl       0.00      0.00      0.00         3\n",
            "         ell       1.00      0.96      0.98      1152\n",
            "         eng       0.99      1.00      1.00     51910\n",
            "         enm       1.00      0.20      0.33         5\n",
            "         epo       0.98      1.00      0.99     22290\n",
            "         est       0.90      0.62      0.74       112\n",
            "         eus       0.99      0.79      0.88       202\n",
            "         evn       0.00      0.00      0.00         2\n",
            "         ewe       0.00      0.00      0.00         3\n",
            "         ext       1.00      0.50      0.67         2\n",
            "         fao       0.33      0.12      0.18         8\n",
            "         fij       0.00      0.00      0.00         2\n",
            "         fin       0.98      0.96      0.97      4671\n",
            "         fkv       0.57      0.36      0.44        11\n",
            "         fra       0.98      0.99      0.99     16237\n",
            "         fro       0.00      0.00      0.00         3\n",
            "         frr       0.95      0.87      0.91        86\n",
            "         fry       1.00      0.10      0.18        10\n",
            "         fur       0.00      0.00      0.00         1\n",
            "         gag       0.00      0.00      0.00         1\n",
            "         gbm       0.00      0.00      0.00         1\n",
            "         gcf       0.94      0.82      0.88        77\n",
            "         gil       0.00      0.00      0.00         2\n",
            "         gla       1.00      0.52      0.69        23\n",
            "         gle       0.92      0.73      0.81        90\n",
            "         glg       0.90      0.31      0.46       153\n",
            "         glv       0.00      0.00      0.00         3\n",
            "         gos       0.94      0.63      0.75       177\n",
            "         got       1.00      0.75      0.86        12\n",
            "         grc       0.93      0.71      0.81        38\n",
            "         grn       0.84      0.52      0.64        98\n",
            "         gsw       0.80      0.20      0.32        20\n",
            "         guc       1.00      0.39      0.56        23\n",
            "         guj       0.00      0.00      0.00         9\n",
            "         hak       0.00      0.00      0.00         1\n",
            "         hat       0.00      0.00      0.00         3\n",
            "         hau       0.00      0.00      0.00         2\n",
            "         haw       0.67      0.67      0.67         6\n",
            "         hbo       0.00      0.00      0.00         2\n",
            "         heb       1.00      0.98      0.99      6547\n",
            "         hif       0.00      0.00      0.00         2\n",
            "         hil       0.00      0.00      0.00         1\n",
            "         hin       0.90      0.73      0.81       481\n",
            "         hoc       1.00      0.50      0.67        32\n",
            "         hrv       0.43      0.20      0.27       165\n",
            "         hrx       0.77      0.33      0.47        30\n",
            "         hsb       0.76      0.34      0.47        56\n",
            "         hun       0.99      0.96      0.97     11594\n",
            "         hye       1.00      0.73      0.85        75\n",
            "         ido       0.96      0.78      0.86       313\n",
            "         iii       0.00      0.00      0.00         4\n",
            "         ike       0.00      0.00      0.00         3\n",
            "         ile       0.91      0.68      0.78       248\n",
            "         ilo       0.91      0.62      0.74        81\n",
            "         ina       0.95      0.87      0.91       896\n",
            "         ind       0.80      0.84      0.82       499\n",
            "         isl       0.99      0.89      0.93       416\n",
            "         ita       0.98      0.99      0.99     26211\n",
            "         izh       0.00      0.00      0.00         1\n",
            "         jam       0.00      0.00      0.00         2\n",
            "         jav       1.00      0.34      0.51        35\n",
            "         jbo       0.89      0.93      0.91       547\n",
            "         jpa       0.00      0.00      0.00         1\n",
            "         jpn       0.53      1.00      0.69      7167\n",
            "         kab       0.88      0.85      0.86     17128\n",
            "         kal       0.00      0.00      0.00         4\n",
            "         kan       1.00      0.60      0.75         5\n",
            "         kat       1.00      0.77      0.87       204\n",
            "         kaz       0.92      0.71      0.80       153\n",
            "         kha       0.86      0.68      0.76        56\n",
            "         khm       0.97      0.78      0.87        50\n",
            "         kin       0.00      0.00      0.00         2\n",
            "         kir       0.00      0.00      0.00        15\n",
            "         kjh       0.00      0.00      0.00         3\n",
            "         kmr       0.96      0.75      0.84       308\n",
            "         koi       0.00      0.00      0.00         1\n",
            "         kor       1.00      0.74      0.85       299\n",
            "         kpv       0.00      0.00      0.00         2\n",
            "         krc       0.00      0.00      0.00         5\n",
            "         krl       0.50      0.11      0.18         9\n",
            "         ksh       1.00      0.25      0.40         4\n",
            "         kum       0.00      0.00      0.00         4\n",
            "         kxi       0.00      0.00      0.00         0\n",
            "         kzj       0.91      0.82      0.87       130\n",
            "         laa       0.00      0.00      0.00         1\n",
            "         lad       0.70      0.30      0.42        47\n",
            "         lao       1.00      0.75      0.86         4\n",
            "         lat       0.97      0.88      0.92      1371\n",
            "         ldn       0.83      0.83      0.83         6\n",
            "         lfn       0.95      0.87      0.91       673\n",
            "         lij       0.67      0.16      0.26        25\n",
            "         lim       0.00      0.00      0.00         2\n",
            "         lin       0.00      0.00      0.00         3\n",
            "         lit       0.97      0.96      0.96      2463\n",
            "         liv       0.00      0.00      0.00         0\n",
            "         lkt       1.00      1.00      1.00         1\n",
            "         lld       1.00      0.50      0.67         2\n",
            "         lmo       0.00      0.00      0.00         3\n",
            "         ltz       0.85      0.58      0.69        19\n",
            "         lut       1.00      0.50      0.67         6\n",
            "         lvs       0.95      0.65      0.77       110\n",
            "         lzh       1.00      0.02      0.03        61\n",
            "         mah       0.00      0.00      0.00         0\n",
            "         mal       1.00      0.89      0.94        27\n",
            "         mar       0.96      0.94      0.95      2289\n",
            "         max       1.00      0.46      0.63        13\n",
            "         mdf       0.00      0.00      0.00         1\n",
            "         mgm       0.00      0.00      0.00         3\n",
            "         mhr       0.94      0.84      0.89       125\n",
            "         mik       0.00      0.00      0.00         5\n",
            "         min       0.00      0.00      0.00         1\n",
            "         mkd       0.92      0.92      0.92      2593\n",
            "         mlg       0.00      0.00      0.00         3\n",
            "         mlt       0.67      0.33      0.44         6\n",
            "         moh       1.00      1.00      1.00         1\n",
            "         mon       0.89      0.88      0.89       102\n",
            "         mri       0.90      0.41      0.56        22\n",
            "         mrj       0.00      0.00      0.00         4\n",
            "         mus       0.75      0.15      0.25        20\n",
            "         mvv       0.00      0.00      0.00         2\n",
            "         mww       1.00      0.50      0.67         2\n",
            "         mya       1.00      0.56      0.72        25\n",
            "         myv       0.00      0.00      0.00         3\n",
            "         nah       0.00      0.00      0.00         5\n",
            "         nav       1.00      0.50      0.67         2\n",
            "         nds       0.96      0.89      0.92       613\n",
            "         ngt       0.00      0.00      0.00         2\n",
            "         niu       0.00      0.00      0.00         2\n",
            "         nld       0.97      0.98      0.98      4960\n",
            "         nno       0.79      0.49      0.60        53\n",
            "         nob       0.84      0.61      0.71       488\n",
            "         nog       0.00      0.00      0.00         6\n",
            "         nov       1.00      0.13      0.24        15\n",
            "         npi       0.00      0.00      0.00        10\n",
            "         nst       0.79      0.92      0.85        25\n",
            "         nus       0.96      0.65      0.78        40\n",
            "         oar       0.50      1.00      0.67         1\n",
            "         oci       0.93      0.65      0.76       195\n",
            "         ofs       0.00      0.00      0.00         1\n",
            "         ori       1.00      0.17      0.29        12\n",
            "         orv       1.00      0.53      0.69        53\n",
            "         osp       0.00      0.00      0.00         1\n",
            "         oss       0.80      0.57      0.67         7\n",
            "         ota       0.64      0.16      0.25        88\n",
            "         otk       0.00      0.00      0.00         1\n",
            "         pag       0.00      0.00      0.00         2\n",
            "         pal       0.00      0.00      0.00         1\n",
            "         pam       0.83      0.68      0.75        44\n",
            "         pan       1.00      0.25      0.40         4\n",
            "         pap       0.00      0.00      0.00         2\n",
            "         pau       0.00      0.00      0.00         1\n",
            "         pcd       0.93      0.46      0.62        56\n",
            "         pdc       0.00      0.00      0.00         3\n",
            "         pes       0.98      0.98      0.98       796\n",
            "         pms       0.75      0.43      0.55        28\n",
            "         pol       0.98      0.95      0.96      3859\n",
            "         por       0.98      0.98      0.98     13170\n",
            "         ppl       0.00      0.00      0.00         0\n",
            "         prg       0.96      0.77      0.86        31\n",
            "         pus       0.00      0.00      0.00         1\n",
            "         que       1.00      0.40      0.57         5\n",
            "         qya       0.00      0.00      0.00         5\n",
            "         rap       0.00      0.00      0.00         1\n",
            "         rif       0.67      0.40      0.50         5\n",
            "         roh       0.00      0.00      0.00         2\n",
            "         rom       1.00      0.50      0.67        28\n",
            "         ron       0.96      0.89      0.93       849\n",
            "         rue       1.00      0.40      0.57         5\n",
            "         run       0.96      0.59      0.73       172\n",
            "         rus       0.98      0.99      0.98     29980\n",
            "         ryu       0.00      0.00      0.00         1\n",
            "         sag       0.00      0.00      0.00         1\n",
            "         sah       0.75      0.45      0.57        33\n",
            "         san       0.75      0.33      0.46         9\n",
            "         sat       1.00      0.96      0.98        46\n",
            "         sco       0.00      0.00      0.00         1\n",
            "         sdh       0.90      0.29      0.44        31\n",
            "         sgs       0.00      0.00      0.00         3\n",
            "         shi       0.91      0.44      0.60        88\n",
            "         shs       1.00      0.50      0.67         2\n",
            "         shy       0.00      0.00      0.00         5\n",
            "         sin       1.00      0.50      0.67         2\n",
            "         sjn       0.00      0.00      0.00         1\n",
            "         slk       0.89      0.66      0.76       553\n",
            "         slv       0.92      0.31      0.47        35\n",
            "         sma       1.00      1.00      1.00         2\n",
            "         sme       0.00      0.00      0.00         6\n",
            "         smo       0.00      0.00      0.00         2\n",
            "         sna       0.00      0.00      0.00         3\n",
            "         snd       0.00      0.00      0.00         1\n",
            "         som       0.00      0.00      0.00         3\n",
            "         spa       0.96      0.98      0.97     12333\n",
            "         sqi       0.92      0.82      0.87        80\n",
            "         srp       0.86      0.80      0.83      1486\n",
            "         stq       1.00      0.50      0.67         4\n",
            "         sux       0.00      0.00      0.00         5\n",
            "         swe       0.97      0.93      0.95      1508\n",
            "         swg       0.79      0.65      0.71        46\n",
            "         swh       0.79      0.55      0.65        20\n",
            "         syc       0.00      0.00      0.00         1\n",
            "         tam       1.00      0.85      0.92        13\n",
            "         tat       0.95      0.83      0.88       445\n",
            "         tel       0.00      0.00      0.00        10\n",
            "         tet       0.00      0.00      0.00         1\n",
            "         tgk       0.00      0.00      0.00         2\n",
            "         tgl       0.91      0.97      0.94       574\n",
            "         tha       0.99      0.73      0.84       123\n",
            "         thv       0.75      0.17      0.27        18\n",
            "         tir       0.00      0.00      0.00         3\n",
            "         tlh       0.96      0.79      0.86       717\n",
            "         tly       0.00      0.00      0.00         3\n",
            "         tmr       0.00      0.00      0.00         2\n",
            "        toki       0.99      1.00      1.00      1438\n",
            "         ton       0.00      0.00      0.00         1\n",
            "         tpi       1.00      0.33      0.50         3\n",
            "         tpw       0.92      0.50      0.65        22\n",
            "         tts       0.00      0.00      0.00         4\n",
            "         tuk       0.94      0.78      0.85       224\n",
            "         tur       0.98      0.98      0.98     23318\n",
            "         tyv       0.00      0.00      0.00         1\n",
            "         tzl       1.00      0.10      0.18        10\n",
            "         uig       1.00      0.83      0.91       257\n",
            "         ukr       0.97      0.91      0.94      6010\n",
            "         urd       0.98      0.97      0.98        65\n",
            "         uzb       0.77      0.36      0.49        28\n",
            "         vec       0.50      0.20      0.29         5\n",
            "         vie       1.00      0.99      1.00       647\n",
            "         vol       1.00      0.69      0.81       143\n",
            "         war       0.95      0.75      0.84        75\n",
            "         wol       0.50      0.50      0.50         2\n",
            "         wuu       0.00      0.00      0.00       181\n",
            "         xal       0.93      0.54      0.68        26\n",
            "         xho       0.00      0.00      0.00        10\n",
            "         xmf       0.00      0.00      0.00         2\n",
            "         xqa       0.00      0.00      0.00         1\n",
            "         yid       0.97      0.96      0.97       337\n",
            "         yue       0.33      0.01      0.01       190\n",
            "         zea       0.00      0.00      0.00         1\n",
            "         zgh       0.94      0.76      0.84        45\n",
            "         zlm       0.69      0.56      0.62        36\n",
            "         zsm       0.63      0.50      0.56       191\n",
            "         zul       0.00      0.00      0.00         3\n",
            "         zza       0.70      0.31      0.43        51\n",
            "\n",
            "    accuracy                           0.95    338322\n",
            "   macro avg       0.56      0.39      0.44    338322\n",
            "weighted avg       0.95      0.95      0.95    338322\n",
            "\n"
          ]
        },
        {
          "output_type": "stream",
          "name": "stderr",
          "text": [
            "/home/amina/.local/lib/python3.9/site-packages/sklearn/metrics/_classification.py:1318: UndefinedMetricWarning: Precision and F-score are ill-defined and being set to 0.0 in labels with no predicted samples. Use `zero_division` parameter to control this behavior.\n",
            "  _warn_prf(average, modifier, msg_start, len(result))\n",
            "/home/amina/.local/lib/python3.9/site-packages/sklearn/metrics/_classification.py:1318: UndefinedMetricWarning: Recall and F-score are ill-defined and being set to 0.0 in labels with no true samples. Use `zero_division` parameter to control this behavior.\n",
            "  _warn_prf(average, modifier, msg_start, len(result))\n"
          ]
        }
      ],
      "source": [
        "print(metrics.classification_report(y_test,predictions))"
      ]
    },
    {
      "cell_type": "code",
      "execution_count": null,
      "metadata": {
        "colab": {
          "base_uri": "https://localhost:8080/"
        },
        "id": "5-gwB4OKW4Ye",
        "outputId": "db730be4-f3e8-4c0c-ba12-fea8fb59e9d8"
      },
      "outputs": [
        {
          "output_type": "execute_result",
          "data": {
            "text/plain": [
              "0.948265262087597"
            ]
          },
          "metadata": {},
          "execution_count": 10
        }
      ],
      "source": [
        "metrics.accuracy_score(y_test,predictions)"
      ]
    },
    {
      "cell_type": "code",
      "execution_count": null,
      "metadata": {
        "colab": {
          "base_uri": "https://localhost:8080/"
        },
        "id": "OuCtJl8CW9Gz",
        "outputId": "39dfd31d-8932-40b4-d29f-3c00d82e5832"
      },
      "outputs": [
        {
          "output_type": "execute_result",
          "data": {
            "text/plain": [
              "'kor'"
            ]
          },
          "metadata": {},
          "execution_count": 13
        }
      ],
      "source": [
        "model.predict(['그러나 주로 개인적인 용도로 이용되는 위키도 있는데, 이를 개인 위키라고 한다.'])[0] "
      ]
    },
    {
      "cell_type": "code",
      "execution_count": null,
      "metadata": {
        "colab": {
          "base_uri": "https://localhost:8080/"
        },
        "id": "sQxJ7CURiwAM",
        "outputId": "21571841-f598-430c-8ef8-581987c773a0"
      },
      "outputs": [
        {
          "output_type": "execute_result",
          "data": {
            "text/plain": [
              "'heb'"
            ]
          },
          "metadata": {},
          "execution_count": 14
        }
      ],
      "source": [
        "model.predict(['ויקי יכולה להיות שיטה טובה לשיתוף ידע בקהילות שפועלות באמצעות האינטרנט או בתוך חברות מסחריות. היא חלופה'])[0]"
      ]
    },
    {
      "cell_type": "code",
      "execution_count": null,
      "metadata": {
        "colab": {
          "base_uri": "https://localhost:8080/"
        },
        "id": "FjgXnAGHiwjm",
        "outputId": "938742bf-8dea-445b-b1a6-507a9314e4cc"
      },
      "outputs": [
        {
          "output_type": "execute_result",
          "data": {
            "text/plain": [
              "'deu'"
            ]
          },
          "metadata": {},
          "execution_count": 15
        }
      ],
      "source": [
        "model.predict(['einsetzt. Zudem nutzen auch viele '])[0]"
      ]
    },
    {
      "cell_type": "code",
      "execution_count": null,
      "metadata": {
        "colab": {
          "base_uri": "https://localhost:8080/"
        },
        "id": "vRB_PiDWjZf6",
        "outputId": "e5491ebe-f6bf-4a58-a53d-6c53de339cdf"
      },
      "outputs": [
        {
          "output_type": "execute_result",
          "data": {
            "text/plain": [
              "'asm'"
            ]
          },
          "metadata": {},
          "execution_count": 11
        }
      ],
      "source": [
        "model.predict(['এটা নতুনকৈ সৃষ্টি কৰিব পাৰি বা ইতিপূৰ্বে থকা পৃষ্ঠা এটা সম্পাদনা কৰিব পাৰি'])[0]"
      ]
    },
    {
      "cell_type": "code",
      "execution_count": null,
      "metadata": {
        "colab": {
          "base_uri": "https://localhost:8080/"
        },
        "id": "6qVsUhPhkES_",
        "outputId": "16ee770a-6214-4ee2-ac38-fe90642d87ec"
      },
      "outputs": [
        {
          "output_type": "execute_result",
          "data": {
            "text/plain": [
              "'mar'"
            ]
          },
          "metadata": {},
          "execution_count": 12
        }
      ],
      "source": [
        "\n",
        "\n",
        "model.predict(['से प्रत्येक एक विशिष्ट भाषा से संबंधित है। विकिपीडिया के अलावा, सार्वजनिक और निजी दोनों उपयोग में सैकड़ों हजारों अ'])[0]"
      ]
    },
    {
      "cell_type": "markdown",
      "source": [
        "# Persistence"
      ],
      "metadata": {
        "id": "RCjBWMXbGhv6"
      }
    },
    {
      "cell_type": "code",
      "source": [
        "from sklearn.externals import joblib\n",
        "joblib.dump(model, 'lang_detector.pkl') "
      ],
      "metadata": {
        "id": "EdaB3qyFGMz1"
      },
      "execution_count": null,
      "outputs": []
    }
  ],
  "metadata": {
    "colab": {
      "name": "ML_lang_detector.ipynb",
      "provenance": [],
      "collapsed_sections": [],
      "authorship_tag": "ABX9TyPJxX2tKS3NrilO570dxR/C",
      "include_colab_link": true
    },
    "kernelspec": {
      "display_name": "Python 3",
      "name": "python3"
    },
    "language_info": {
      "name": "python"
    }
  },
  "nbformat": 4,
  "nbformat_minor": 0
}