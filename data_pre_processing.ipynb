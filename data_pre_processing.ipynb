{
  "cells": [
    {
      "cell_type": "markdown",
      "metadata": {
        "colab_type": "text",
        "id": "view-in-github"
      },
      "source": [
        "<a href=\"https://colab.research.google.com/github/mdjamina/m1_ml_lang_detector/blob/main/data_pre_processing.ipynb\" target=\"_parent\"><img src=\"https://colab.research.google.com/assets/colab-badge.svg\" alt=\"Open In Colab\"/></a>"
      ]
    },
    {
      "cell_type": "markdown",
      "metadata": {
        "id": "wsWqzNezu3vU"
      },
      "source": [
        "# Corpus\n",
        "[Tatoeba](https://tatoeba.org/fr/downloads\n",
        ") est une collection de phrases et de traductions."
      ]
    },
    {
      "cell_type": "markdown",
      "metadata": {
        "id": "196D3ZglvjxK"
      },
      "source": [
        "## Téléchargement du corpus"
      ]
    },
    {
      "cell_type": "code",
      "execution_count": 1,
      "metadata": {
        "colab": {
          "base_uri": "https://localhost:8080/"
        },
        "id": "FFguKn65-rgO",
        "outputId": "697559e3-8d17-40f4-8add-981b646ae22f"
      },
      "outputs": [
        {
          "name": "stdout",
          "output_type": "stream",
          "text": [
            "--2022-03-13 21:23:16--  https://iso639-3.sil.org/sites/iso639-3/files/downloads/iso-639-3-macrolanguages.tab\n",
            "Résolution de iso639-3.sil.org (iso639-3.sil.org)… 2606:4700:10::6816:afe, 2606:4700:10::ac43:1df8, 2606:4700:10::6816:bfe, ...\n",
            "Connexion à iso639-3.sil.org (iso639-3.sil.org)|2606:4700:10::6816:afe|:443… connecté.\n",
            "requête HTTP transmise, en attente de la réponse… 200 OK\n",
            "Taille : 5012 (4,9K)\n",
            "Enregistre : ‘iso-639-3-macrolanguages.tab’\n",
            "\n",
            "iso-639-3-macrolang 100%[===================>]   4,89K  --.-KB/s    ds 0s      \n",
            "\n",
            "2022-03-13 21:23:17 (119 MB/s) - ‘iso-639-3-macrolanguages.tab’ enregistré [5012/5012]\n",
            "\n"
          ]
        }
      ],
      "source": [
        "!wget https://iso639-3.sil.org/sites/iso639-3/files/downloads/iso-639-3-macrolanguages.tab"
      ]
    },
    {
      "cell_type": "code",
      "execution_count": 1,
      "metadata": {
        "colab": {
          "base_uri": "https://localhost:8080/"
        },
        "id": "bDd5YT5ZmtUn",
        "outputId": "e2c35879-7562-430a-c5cb-0500cffd6680"
      },
      "outputs": [
        {
          "name": "stdout",
          "output_type": "stream",
          "text": [
            "--2022-03-13 22:05:20--  https://downloads.tatoeba.org/exports/sentences.tar.bz2\n",
            "Résolution de downloads.tatoeba.org (downloads.tatoeba.org)… 94.130.77.194\n",
            "Connexion à downloads.tatoeba.org (downloads.tatoeba.org)|94.130.77.194|:443… connecté.\n",
            "requête HTTP transmise, en attente de la réponse… 200 OK\n",
            "Taille : 160225890 (153M) [application/octet-stream]\n",
            "Enregistre : ‘./data/sentences.tar.bz2’\n",
            "\n",
            "sentences.tar.bz2   100%[===================>] 152,80M  3,24MB/s    ds 50s     \n",
            "\n",
            "2022-03-13 22:06:09 (3,08 MB/s) - ‘./data/sentences.tar.bz2’ enregistré [160225890/160225890]\n",
            "\n"
          ]
        }
      ],
      "source": [
        "!wget -P ./data/ https://downloads.tatoeba.org/exports/sentences.tar.bz2"
      ]
    },
    {
      "cell_type": "markdown",
      "metadata": {
        "id": "L9dop-NpvqVh"
      },
      "source": [
        "Extraction de l'archive téléchargée "
      ]
    },
    {
      "cell_type": "markdown",
      "metadata": {
        "id": "G86sykMcXWUw"
      },
      "source": [
        "## Chargement du corpus"
      ]
    },
    {
      "cell_type": "code",
      "execution_count": 2,
      "metadata": {
        "colab": {
          "base_uri": "https://localhost:8080/"
        },
        "id": "4oMo0Uvp0wek",
        "outputId": "452221a3-fcba-4531-b51b-3b7fa6546d3d"
      },
      "outputs": [
        {
          "name": "stderr",
          "output_type": "stream",
          "text": [
            "/tmp/ipykernel_12248/522262150.py:3: DtypeWarning: Columns (0) have mixed types. Specify dtype option on import or set low_memory=False.\n",
            "  data = pd.read_csv('./data/sentences.tar.bz2', sep='\\t', header=None,compression='bz2')\n"
          ]
        }
      ],
      "source": [
        "import pandas as pd\n",
        "\n",
        "data = pd.read_csv('./data/sentences.tar.bz2', sep='\\t', header=None,compression='bz2')\n",
        "data.columns = ['id','I_Id', 'content']\n"
      ]
    },
    {
      "cell_type": "code",
      "execution_count": 3,
      "metadata": {
        "colab": {
          "base_uri": "https://localhost:8080/"
        },
        "id": "QCmTV4gvnLM2",
        "outputId": "2f93119b-4453-477f-c400-8c0c1f6bd238"
      },
      "outputs": [
        {
          "data": {
            "text/plain": [
              "(10262675, 3)"
            ]
          },
          "execution_count": 3,
          "metadata": {},
          "output_type": "execute_result"
        }
      ],
      "source": [
        "data.shape"
      ]
    },
    {
      "cell_type": "markdown",
      "metadata": {
        "id": "hTZWUApPwVBu"
      },
      "source": [
        "## Nettoyage des données"
      ]
    },
    {
      "cell_type": "code",
      "execution_count": 4,
      "metadata": {
        "colab": {
          "base_uri": "https://localhost:8080/"
        },
        "id": "q63Rw6tUdAzz",
        "outputId": "178f05a6-fb4a-4aa6-f16a-2cd84676146b"
      },
      "outputs": [
        {
          "data": {
            "text/plain": [
              "id         False\n",
              "I_Id       False\n",
              "content    False\n",
              "dtype: bool"
            ]
          },
          "execution_count": 4,
          "metadata": {},
          "output_type": "execute_result"
        }
      ],
      "source": [
        "#suppression des valeurs NAN\n",
        "data.dropna(subset = [\"I_Id\"], inplace=True)\n",
        "#identification des colonnes qui contiennent des valeurs NAN (non renseignées)\n",
        "data.isnull().any()"
      ]
    },
    {
      "cell_type": "markdown",
      "metadata": {
        "id": "GVKC4NSUw8rq"
      },
      "source": [
        "## regrouppement des dialects par langue principale"
      ]
    },
    {
      "cell_type": "code",
      "execution_count": 5,
      "metadata": {
        "colab": {
          "base_uri": "https://localhost:8080/"
        },
        "id": "6YcbTo1vlP0A",
        "outputId": "96275d02-5812-481c-e665-d007624ea9d2"
      },
      "outputs": [
        {
          "data": {
            "text/plain": [
              "40"
            ]
          },
          "execution_count": 5,
          "metadata": {},
          "output_type": "execute_result"
        }
      ],
      "source": [
        "langs ={'eng':'English','pol':'Polish','deu':'German','fra':'French','spa':'Spanish','ita':'Italian'\n",
        ",'tur':'Turkish','por':'Portuguese','rus':'Russian','ukr':'Ukrainian','nld':'Dutch','bul':'Bulgarian'\n",
        ",'ell':'Greek','swe':'Swedish','hun':'Hungarian','gle':'Irish','lav':'Latvian','dan':'Danish','fin':'Finnish',\n",
        "'ara':'Arabic','heb':'Hebrew','zho':'Chinese','hin':'Hindi','jpn':'Japanese','fas':'Persian','kor':'Korean',\n",
        "'hye':'Armenian','swa':'Swahili','ber':'Berber','kab':'Kabyle','ces':'Czech','lat':'Latin',\n",
        "'nor':'Norwegian','ron':'Moldavian, Moldovan, Romanian','slk':'Slovak','hbs':'Serbo-Croatian','mkd':'Macedonian',\n",
        "'vie':'Vietnamese','est':'Estonian','tha':'Thai'}\n",
        "\n",
        "\n",
        "len(langs)\n"
      ]
    },
    {
      "cell_type": "code",
      "execution_count": null,
      "metadata": {
        "id": "4lbZcuUMxHJF"
      },
      "outputs": [],
      "source": [
        "#TODO\n",
        "# site iso langues avec leur regroupement\n",
        "# telecharger fichier csv(iso) contient : langue : arb=dz, ara=egy ..,  le telecharger avec  pandas data frames "
      ]
    },
    {
      "cell_type": "code",
      "execution_count": 6,
      "metadata": {
        "id": "aAPKDG9l-6hO"
      },
      "outputs": [
        {
          "data": {
            "text/html": [
              "<div>\n",
              "<style scoped>\n",
              "    .dataframe tbody tr th:only-of-type {\n",
              "        vertical-align: middle;\n",
              "    }\n",
              "\n",
              "    .dataframe tbody tr th {\n",
              "        vertical-align: top;\n",
              "    }\n",
              "\n",
              "    .dataframe thead th {\n",
              "        text-align: right;\n",
              "    }\n",
              "</style>\n",
              "<table border=\"1\" class=\"dataframe\">\n",
              "  <thead>\n",
              "    <tr style=\"text-align: right;\">\n",
              "      <th></th>\n",
              "      <th>lang</th>\n",
              "      <th>I_Id</th>\n",
              "      <th>I_Status</th>\n",
              "    </tr>\n",
              "  </thead>\n",
              "  <tbody>\n",
              "    <tr>\n",
              "      <th>0</th>\n",
              "      <td>aka</td>\n",
              "      <td>fat</td>\n",
              "      <td>A</td>\n",
              "    </tr>\n",
              "    <tr>\n",
              "      <th>1</th>\n",
              "      <td>aka</td>\n",
              "      <td>twi</td>\n",
              "      <td>A</td>\n",
              "    </tr>\n",
              "    <tr>\n",
              "      <th>2</th>\n",
              "      <td>ara</td>\n",
              "      <td>aao</td>\n",
              "      <td>A</td>\n",
              "    </tr>\n",
              "    <tr>\n",
              "      <th>3</th>\n",
              "      <td>ara</td>\n",
              "      <td>abh</td>\n",
              "      <td>A</td>\n",
              "    </tr>\n",
              "    <tr>\n",
              "      <th>4</th>\n",
              "      <td>ara</td>\n",
              "      <td>abv</td>\n",
              "      <td>A</td>\n",
              "    </tr>\n",
              "    <tr>\n",
              "      <th>...</th>\n",
              "      <td>...</td>\n",
              "      <td>...</td>\n",
              "      <td>...</td>\n",
              "    </tr>\n",
              "    <tr>\n",
              "      <th>449</th>\n",
              "      <td>zho</td>\n",
              "      <td>NaN</td>\n",
              "      <td>A</td>\n",
              "    </tr>\n",
              "    <tr>\n",
              "      <th>450</th>\n",
              "      <td>zho</td>\n",
              "      <td>wuu</td>\n",
              "      <td>A</td>\n",
              "    </tr>\n",
              "    <tr>\n",
              "      <th>451</th>\n",
              "      <td>zho</td>\n",
              "      <td>yue</td>\n",
              "      <td>A</td>\n",
              "    </tr>\n",
              "    <tr>\n",
              "      <th>452</th>\n",
              "      <td>zza</td>\n",
              "      <td>diq</td>\n",
              "      <td>A</td>\n",
              "    </tr>\n",
              "    <tr>\n",
              "      <th>453</th>\n",
              "      <td>zza</td>\n",
              "      <td>kiu</td>\n",
              "      <td>A</td>\n",
              "    </tr>\n",
              "  </tbody>\n",
              "</table>\n",
              "<p>454 rows × 3 columns</p>\n",
              "</div>"
            ],
            "text/plain": [
              "    lang I_Id I_Status\n",
              "0    aka  fat        A\n",
              "1    aka  twi        A\n",
              "2    ara  aao        A\n",
              "3    ara  abh        A\n",
              "4    ara  abv        A\n",
              "..   ...  ...      ...\n",
              "449  zho  NaN        A\n",
              "450  zho  wuu        A\n",
              "451  zho  yue        A\n",
              "452  zza  diq        A\n",
              "453  zza  kiu        A\n",
              "\n",
              "[454 rows x 3 columns]"
            ]
          },
          "execution_count": 6,
          "metadata": {},
          "output_type": "execute_result"
        }
      ],
      "source": [
        "import pandas as pd\n",
        "macro_lang = pd.read_csv('./data/iso-639-3-macrolanguages.tab', sep='\\t')\n",
        "macro_lang.columns = ['lang',\t'I_Id',\t'I_Status']\n",
        "\n",
        "macro_lang"
      ]
    },
    {
      "cell_type": "code",
      "execution_count": null,
      "metadata": {
        "id": "xdi0RW23Y7qI"
      },
      "outputs": [],
      "source": []
    },
    {
      "cell_type": "code",
      "execution_count": 7,
      "metadata": {
        "colab": {
          "base_uri": "https://localhost:8080/"
        },
        "id": "-DljLXsGZIVg",
        "outputId": "7e5f8f73-238d-4e19-c5f0-c5c029b685af"
      },
      "outputs": [
        {
          "data": {
            "text/plain": [
              "(8961150, 2)"
            ]
          },
          "execution_count": 7,
          "metadata": {},
          "output_type": "execute_result"
        }
      ],
      "source": [
        "#jointure entre la table des sentences et la table macrolanguages\n",
        "df = pd.merge(data,macro_lang, how='left',on='I_Id')\n",
        "df.lang.fillna(df.I_Id, inplace=True)\n",
        "\n",
        "#suppression des columns 'I_Status', 'id' et 'I_Id'\n",
        "df = df.drop(columns=['I_Status', 'id','I_Id'])\n",
        "\n",
        "#df[~df['lang'].isin(macro_lang['lang'])]\n",
        "\n",
        "#garder que les langues selectionnées dans la liste langs\n",
        "df=df[df['lang'].isin(langs.keys())]\n",
        "\n",
        "df.shape\n"
      ]
    },
    {
      "cell_type": "code",
      "execution_count": 24,
      "metadata": {
        "id": "rxHGBDP-ZS_A"
      },
      "outputs": [],
      "source": [
        "df_counts = df.groupby(['lang']).count()"
      ]
    },
    {
      "cell_type": "code",
      "execution_count": 25,
      "metadata": {
        "id": "HcM2kJHOVn9J"
      },
      "outputs": [],
      "source": [
        "\n",
        "\n",
        "#df_counts[(df_counts['content']>50000) ]\n",
        " \n",
        "to_reduce0 = df[df['lang'].isin(df_counts[(df_counts['content']>=220000) & (df_counts['content']<500000) ].index)]\n",
        "to_reduce1 = df[df['lang'].isin(df_counts[(df_counts['content']>=500000) & (df_counts['content']<1000000) ].index)]\n",
        "to_reduce2 = df[df['lang'].isin(df_counts[(df_counts['content']>=1000000 ) ].index)]\n",
        "\n",
        "df = df[df['lang'].isin(df_counts[(df_counts['content']<220000) ].index)]\n"
      ]
    },
    {
      "cell_type": "code",
      "execution_count": null,
      "metadata": {
        "id": "yAnIjUcNfpGF"
      },
      "outputs": [],
      "source": []
    },
    {
      "cell_type": "code",
      "execution_count": 26,
      "metadata": {
        "id": "iANOP5y8r_Kj"
      },
      "outputs": [
        {
          "data": {
            "text/html": [
              "<div>\n",
              "<style scoped>\n",
              "    .dataframe tbody tr th:only-of-type {\n",
              "        vertical-align: middle;\n",
              "    }\n",
              "\n",
              "    .dataframe tbody tr th {\n",
              "        vertical-align: top;\n",
              "    }\n",
              "\n",
              "    .dataframe thead th {\n",
              "        text-align: right;\n",
              "    }\n",
              "</style>\n",
              "<table border=\"1\" class=\"dataframe\">\n",
              "  <thead>\n",
              "    <tr style=\"text-align: right;\">\n",
              "      <th></th>\n",
              "      <th>content</th>\n",
              "    </tr>\n",
              "    <tr>\n",
              "      <th>lang</th>\n",
              "      <th></th>\n",
              "    </tr>\n",
              "  </thead>\n",
              "  <tbody>\n",
              "  </tbody>\n",
              "</table>\n",
              "</div>"
            ],
            "text/plain": [
              "Empty DataFrame\n",
              "Columns: [content]\n",
              "Index: []"
            ]
          },
          "execution_count": 26,
          "metadata": {},
          "output_type": "execute_result"
        }
      ],
      "source": [
        "df_counts[(df_counts['content']<=1000) & (df_counts['content']>250) & (~df_counts.index.isin(langs.keys()))]"
      ]
    },
    {
      "cell_type": "code",
      "execution_count": 27,
      "metadata": {
        "colab": {
          "base_uri": "https://localhost:8080/",
          "height": 206
        },
        "id": "2mMC-mUBkwn_",
        "outputId": "94ad8fd7-3a97-4e74-e81c-b0a76de82b59"
      },
      "outputs": [
        {
          "data": {
            "text/html": [
              "<div>\n",
              "<style scoped>\n",
              "    .dataframe tbody tr th:only-of-type {\n",
              "        vertical-align: middle;\n",
              "    }\n",
              "\n",
              "    .dataframe tbody tr th {\n",
              "        vertical-align: top;\n",
              "    }\n",
              "\n",
              "    .dataframe thead th {\n",
              "        text-align: right;\n",
              "    }\n",
              "</style>\n",
              "<table border=\"1\" class=\"dataframe\">\n",
              "  <thead>\n",
              "    <tr style=\"text-align: right;\">\n",
              "      <th></th>\n",
              "      <th>content</th>\n",
              "    </tr>\n",
              "    <tr>\n",
              "      <th>lang</th>\n",
              "      <th></th>\n",
              "    </tr>\n",
              "  </thead>\n",
              "  <tbody>\n",
              "    <tr>\n",
              "      <th>fra</th>\n",
              "      <td>497104</td>\n",
              "    </tr>\n",
              "    <tr>\n",
              "      <th>hun</th>\n",
              "      <td>353702</td>\n",
              "    </tr>\n",
              "    <tr>\n",
              "      <th>por</th>\n",
              "      <td>394187</td>\n",
              "    </tr>\n",
              "    <tr>\n",
              "      <th>spa</th>\n",
              "      <td>367512</td>\n",
              "    </tr>\n",
              "  </tbody>\n",
              "</table>\n",
              "</div>"
            ],
            "text/plain": [
              "      content\n",
              "lang         \n",
              "fra    497104\n",
              "hun    353702\n",
              "por    394187\n",
              "spa    367512"
            ]
          },
          "execution_count": 27,
          "metadata": {},
          "output_type": "execute_result"
        }
      ],
      "source": [
        "to_reduce0.groupby(['lang']).count()"
      ]
    },
    {
      "cell_type": "code",
      "execution_count": 28,
      "metadata": {
        "colab": {
          "base_uri": "https://localhost:8080/",
          "height": 269
        },
        "id": "z9Qg4XblqYus",
        "outputId": "737ad196-a7ef-438d-c32f-4a59a0f1838d"
      },
      "outputs": [
        {
          "data": {
            "text/html": [
              "<div>\n",
              "<style scoped>\n",
              "    .dataframe tbody tr th:only-of-type {\n",
              "        vertical-align: middle;\n",
              "    }\n",
              "\n",
              "    .dataframe tbody tr th {\n",
              "        vertical-align: top;\n",
              "    }\n",
              "\n",
              "    .dataframe thead th {\n",
              "        text-align: right;\n",
              "    }\n",
              "</style>\n",
              "<table border=\"1\" class=\"dataframe\">\n",
              "  <thead>\n",
              "    <tr style=\"text-align: right;\">\n",
              "      <th></th>\n",
              "      <th>content</th>\n",
              "    </tr>\n",
              "    <tr>\n",
              "      <th>lang</th>\n",
              "      <th></th>\n",
              "    </tr>\n",
              "  </thead>\n",
              "  <tbody>\n",
              "    <tr>\n",
              "      <th>ber</th>\n",
              "      <td>589554</td>\n",
              "    </tr>\n",
              "    <tr>\n",
              "      <th>deu</th>\n",
              "      <td>581093</td>\n",
              "    </tr>\n",
              "    <tr>\n",
              "      <th>ita</th>\n",
              "      <td>802842</td>\n",
              "    </tr>\n",
              "    <tr>\n",
              "      <th>kab</th>\n",
              "      <td>513886</td>\n",
              "    </tr>\n",
              "    <tr>\n",
              "      <th>rus</th>\n",
              "      <td>903431</td>\n",
              "    </tr>\n",
              "    <tr>\n",
              "      <th>tur</th>\n",
              "      <td>717173</td>\n",
              "    </tr>\n",
              "  </tbody>\n",
              "</table>\n",
              "</div>"
            ],
            "text/plain": [
              "      content\n",
              "lang         \n",
              "ber    589554\n",
              "deu    581093\n",
              "ita    802842\n",
              "kab    513886\n",
              "rus    903431\n",
              "tur    717173"
            ]
          },
          "execution_count": 28,
          "metadata": {},
          "output_type": "execute_result"
        }
      ],
      "source": [
        "to_reduce1.groupby(['lang']).count()"
      ]
    },
    {
      "cell_type": "code",
      "execution_count": 29,
      "metadata": {
        "colab": {
          "base_uri": "https://localhost:8080/",
          "height": 112
        },
        "id": "kKS3g5aZqalO",
        "outputId": "18a045c2-91fd-42b0-8cf3-9d8b58d522b5"
      },
      "outputs": [
        {
          "data": {
            "text/html": [
              "<div>\n",
              "<style scoped>\n",
              "    .dataframe tbody tr th:only-of-type {\n",
              "        vertical-align: middle;\n",
              "    }\n",
              "\n",
              "    .dataframe tbody tr th {\n",
              "        vertical-align: top;\n",
              "    }\n",
              "\n",
              "    .dataframe thead th {\n",
              "        text-align: right;\n",
              "    }\n",
              "</style>\n",
              "<table border=\"1\" class=\"dataframe\">\n",
              "  <thead>\n",
              "    <tr style=\"text-align: right;\">\n",
              "      <th></th>\n",
              "      <th>content</th>\n",
              "    </tr>\n",
              "    <tr>\n",
              "      <th>lang</th>\n",
              "      <th></th>\n",
              "    </tr>\n",
              "  </thead>\n",
              "  <tbody>\n",
              "    <tr>\n",
              "      <th>eng</th>\n",
              "      <td>1572075</td>\n",
              "    </tr>\n",
              "  </tbody>\n",
              "</table>\n",
              "</div>"
            ],
            "text/plain": [
              "      content\n",
              "lang         \n",
              "eng   1572075"
            ]
          },
          "execution_count": 29,
          "metadata": {},
          "output_type": "execute_result"
        }
      ],
      "source": [
        "to_reduce2.groupby(['lang']).count()"
      ]
    },
    {
      "cell_type": "code",
      "execution_count": 30,
      "metadata": {
        "id": "bZj9oiLx2k5-"
      },
      "outputs": [],
      "source": [
        "from sklearn.model_selection import train_test_split \n",
        "#on prends que \"\n",
        "\n",
        "\n"
      ]
    },
    {
      "cell_type": "code",
      "execution_count": 31,
      "metadata": {
        "colab": {
          "base_uri": "https://localhost:8080/",
          "height": 206
        },
        "id": "7bmp5guFJIMW",
        "outputId": "0e31c0b4-b478-4d55-a842-c321e7a5fcdd"
      },
      "outputs": [
        {
          "data": {
            "text/html": [
              "<div>\n",
              "<style scoped>\n",
              "    .dataframe tbody tr th:only-of-type {\n",
              "        vertical-align: middle;\n",
              "    }\n",
              "\n",
              "    .dataframe tbody tr th {\n",
              "        vertical-align: top;\n",
              "    }\n",
              "\n",
              "    .dataframe thead th {\n",
              "        text-align: right;\n",
              "    }\n",
              "</style>\n",
              "<table border=\"1\" class=\"dataframe\">\n",
              "  <thead>\n",
              "    <tr style=\"text-align: right;\">\n",
              "      <th></th>\n",
              "      <th>content</th>\n",
              "    </tr>\n",
              "    <tr>\n",
              "      <th>lang</th>\n",
              "      <th></th>\n",
              "    </tr>\n",
              "  </thead>\n",
              "  <tbody>\n",
              "    <tr>\n",
              "      <th>fra</th>\n",
              "      <td>273358</td>\n",
              "    </tr>\n",
              "    <tr>\n",
              "      <th>hun</th>\n",
              "      <td>194765</td>\n",
              "    </tr>\n",
              "    <tr>\n",
              "      <th>por</th>\n",
              "      <td>216536</td>\n",
              "    </tr>\n",
              "    <tr>\n",
              "      <th>spa</th>\n",
              "      <td>202218</td>\n",
              "    </tr>\n",
              "  </tbody>\n",
              "</table>\n",
              "</div>"
            ],
            "text/plain": [
              "      content\n",
              "lang         \n",
              "fra    273358\n",
              "hun    194765\n",
              "por    216536\n",
              "spa    202218"
            ]
          },
          "execution_count": 31,
          "metadata": {},
          "output_type": "execute_result"
        }
      ],
      "source": [
        "content_reduced0, _, lang_reduced0, _ = train_test_split(to_reduce0['content'], to_reduce0['lang'], train_size=0.55, random_state=42) \n",
        "reduced0 = pd.DataFrame({'content':content_reduced0,'lang':lang_reduced0})\n",
        "\n",
        "\n",
        "reduced0.groupby(['lang']).count()"
      ]
    },
    {
      "cell_type": "code",
      "execution_count": 32,
      "metadata": {
        "colab": {
          "base_uri": "https://localhost:8080/",
          "height": 269
        },
        "id": "8sZ8Utbzsq1u",
        "outputId": "9d3dfd00-9c8c-459b-a297-2fb6bcb9ee01"
      },
      "outputs": [
        {
          "data": {
            "text/html": [
              "<div>\n",
              "<style scoped>\n",
              "    .dataframe tbody tr th:only-of-type {\n",
              "        vertical-align: middle;\n",
              "    }\n",
              "\n",
              "    .dataframe tbody tr th {\n",
              "        vertical-align: top;\n",
              "    }\n",
              "\n",
              "    .dataframe thead th {\n",
              "        text-align: right;\n",
              "    }\n",
              "</style>\n",
              "<table border=\"1\" class=\"dataframe\">\n",
              "  <thead>\n",
              "    <tr style=\"text-align: right;\">\n",
              "      <th></th>\n",
              "      <th>content</th>\n",
              "    </tr>\n",
              "    <tr>\n",
              "      <th>lang</th>\n",
              "      <th></th>\n",
              "    </tr>\n",
              "  </thead>\n",
              "  <tbody>\n",
              "    <tr>\n",
              "      <th>ber</th>\n",
              "      <td>200615</td>\n",
              "    </tr>\n",
              "    <tr>\n",
              "      <th>deu</th>\n",
              "      <td>197317</td>\n",
              "    </tr>\n",
              "    <tr>\n",
              "      <th>ita</th>\n",
              "      <td>273066</td>\n",
              "    </tr>\n",
              "    <tr>\n",
              "      <th>kab</th>\n",
              "      <td>174590</td>\n",
              "    </tr>\n",
              "    <tr>\n",
              "      <th>rus</th>\n",
              "      <td>307411</td>\n",
              "    </tr>\n",
              "    <tr>\n",
              "      <th>tur</th>\n",
              "      <td>243713</td>\n",
              "    </tr>\n",
              "  </tbody>\n",
              "</table>\n",
              "</div>"
            ],
            "text/plain": [
              "      content\n",
              "lang         \n",
              "ber    200615\n",
              "deu    197317\n",
              "ita    273066\n",
              "kab    174590\n",
              "rus    307411\n",
              "tur    243713"
            ]
          },
          "execution_count": 32,
          "metadata": {},
          "output_type": "execute_result"
        }
      ],
      "source": [
        "content_reduced1, _, lang_reduced1, _ = train_test_split(to_reduce1['content'], to_reduce1['lang'], train_size=0.34, random_state=42) \n",
        "\n",
        "reduced1 = pd.DataFrame({'content':content_reduced1,'lang':lang_reduced1})\n",
        "\n",
        "\n",
        "reduced1.groupby(['lang']).count()"
      ]
    },
    {
      "cell_type": "code",
      "execution_count": 33,
      "metadata": {
        "colab": {
          "base_uri": "https://localhost:8080/",
          "height": 112
        },
        "id": "j0K6mOnHsrI7",
        "outputId": "7e45a00b-2d32-446d-8548-24b6e073a2bd"
      },
      "outputs": [
        {
          "data": {
            "text/html": [
              "<div>\n",
              "<style scoped>\n",
              "    .dataframe tbody tr th:only-of-type {\n",
              "        vertical-align: middle;\n",
              "    }\n",
              "\n",
              "    .dataframe tbody tr th {\n",
              "        vertical-align: top;\n",
              "    }\n",
              "\n",
              "    .dataframe thead th {\n",
              "        text-align: right;\n",
              "    }\n",
              "</style>\n",
              "<table border=\"1\" class=\"dataframe\">\n",
              "  <thead>\n",
              "    <tr style=\"text-align: right;\">\n",
              "      <th></th>\n",
              "      <th>content</th>\n",
              "    </tr>\n",
              "    <tr>\n",
              "      <th>lang</th>\n",
              "      <th></th>\n",
              "    </tr>\n",
              "  </thead>\n",
              "  <tbody>\n",
              "    <tr>\n",
              "      <th>eng</th>\n",
              "      <td>314415</td>\n",
              "    </tr>\n",
              "  </tbody>\n",
              "</table>\n",
              "</div>"
            ],
            "text/plain": [
              "      content\n",
              "lang         \n",
              "eng    314415"
            ]
          },
          "execution_count": 33,
          "metadata": {},
          "output_type": "execute_result"
        }
      ],
      "source": [
        "content_reduced2, _, lang_reduced2, _ = train_test_split(to_reduce2['content'], to_reduce2['lang'], train_size=0.20, random_state=42) \n",
        "reduced2 = pd.DataFrame({'content':content_reduced2,'lang':lang_reduced2})\n",
        "\n",
        "\n",
        "reduced2.groupby(['lang']).count()"
      ]
    },
    {
      "cell_type": "code",
      "execution_count": 8,
      "metadata": {
        "colab": {
          "base_uri": "https://localhost:8080/",
          "height": 1000
        },
        "id": "0p97DtZe4nTG",
        "outputId": "8bbc7da0-0215-4134-da81-0a2cd8930759"
      },
      "outputs": [
        {
          "data": {
            "text/html": [
              "<div>\n",
              "<style scoped>\n",
              "    .dataframe tbody tr th:only-of-type {\n",
              "        vertical-align: middle;\n",
              "    }\n",
              "\n",
              "    .dataframe tbody tr th {\n",
              "        vertical-align: top;\n",
              "    }\n",
              "\n",
              "    .dataframe thead th {\n",
              "        text-align: right;\n",
              "    }\n",
              "</style>\n",
              "<table border=\"1\" class=\"dataframe\">\n",
              "  <thead>\n",
              "    <tr style=\"text-align: right;\">\n",
              "      <th></th>\n",
              "      <th>content</th>\n",
              "    </tr>\n",
              "    <tr>\n",
              "      <th>lang</th>\n",
              "      <th></th>\n",
              "    </tr>\n",
              "  </thead>\n",
              "  <tbody>\n",
              "    <tr>\n",
              "      <th>ara</th>\n",
              "      <td>42128</td>\n",
              "    </tr>\n",
              "    <tr>\n",
              "      <th>ber</th>\n",
              "      <td>589554</td>\n",
              "    </tr>\n",
              "    <tr>\n",
              "      <th>bul</th>\n",
              "      <td>24521</td>\n",
              "    </tr>\n",
              "    <tr>\n",
              "      <th>ces</th>\n",
              "      <td>63225</td>\n",
              "    </tr>\n",
              "    <tr>\n",
              "      <th>dan</th>\n",
              "      <td>53561</td>\n",
              "    </tr>\n",
              "    <tr>\n",
              "      <th>deu</th>\n",
              "      <td>581093</td>\n",
              "    </tr>\n",
              "    <tr>\n",
              "      <th>ell</th>\n",
              "      <td>34791</td>\n",
              "    </tr>\n",
              "    <tr>\n",
              "      <th>eng</th>\n",
              "      <td>1572075</td>\n",
              "    </tr>\n",
              "    <tr>\n",
              "      <th>est</th>\n",
              "      <td>3686</td>\n",
              "    </tr>\n",
              "    <tr>\n",
              "      <th>fas</th>\n",
              "      <td>24783</td>\n",
              "    </tr>\n",
              "    <tr>\n",
              "      <th>fin</th>\n",
              "      <td>138867</td>\n",
              "    </tr>\n",
              "    <tr>\n",
              "      <th>fra</th>\n",
              "      <td>497104</td>\n",
              "    </tr>\n",
              "    <tr>\n",
              "      <th>gle</th>\n",
              "      <td>2645</td>\n",
              "    </tr>\n",
              "    <tr>\n",
              "      <th>hbs</th>\n",
              "      <td>51059</td>\n",
              "    </tr>\n",
              "    <tr>\n",
              "      <th>heb</th>\n",
              "      <td>198222</td>\n",
              "    </tr>\n",
              "    <tr>\n",
              "      <th>hin</th>\n",
              "      <td>14559</td>\n",
              "    </tr>\n",
              "    <tr>\n",
              "      <th>hun</th>\n",
              "      <td>353702</td>\n",
              "    </tr>\n",
              "    <tr>\n",
              "      <th>hye</th>\n",
              "      <td>2249</td>\n",
              "    </tr>\n",
              "    <tr>\n",
              "      <th>ita</th>\n",
              "      <td>802842</td>\n",
              "    </tr>\n",
              "    <tr>\n",
              "      <th>jpn</th>\n",
              "      <td>218894</td>\n",
              "    </tr>\n",
              "    <tr>\n",
              "      <th>kab</th>\n",
              "      <td>513886</td>\n",
              "    </tr>\n",
              "    <tr>\n",
              "      <th>kor</th>\n",
              "      <td>8947</td>\n",
              "    </tr>\n",
              "    <tr>\n",
              "      <th>lat</th>\n",
              "      <td>41116</td>\n",
              "    </tr>\n",
              "    <tr>\n",
              "      <th>lav</th>\n",
              "      <td>3048</td>\n",
              "    </tr>\n",
              "    <tr>\n",
              "      <th>mkd</th>\n",
              "      <td>77945</td>\n",
              "    </tr>\n",
              "    <tr>\n",
              "      <th>nld</th>\n",
              "      <td>154128</td>\n",
              "    </tr>\n",
              "    <tr>\n",
              "      <th>nor</th>\n",
              "      <td>15868</td>\n",
              "    </tr>\n",
              "    <tr>\n",
              "      <th>pol</th>\n",
              "      <td>115926</td>\n",
              "    </tr>\n",
              "    <tr>\n",
              "      <th>por</th>\n",
              "      <td>394187</td>\n",
              "    </tr>\n",
              "    <tr>\n",
              "      <th>ron</th>\n",
              "      <td>26538</td>\n",
              "    </tr>\n",
              "    <tr>\n",
              "      <th>rus</th>\n",
              "      <td>903431</td>\n",
              "    </tr>\n",
              "    <tr>\n",
              "      <th>slk</th>\n",
              "      <td>16759</td>\n",
              "    </tr>\n",
              "    <tr>\n",
              "      <th>spa</th>\n",
              "      <td>367512</td>\n",
              "    </tr>\n",
              "    <tr>\n",
              "      <th>swa</th>\n",
              "      <td>591</td>\n",
              "    </tr>\n",
              "    <tr>\n",
              "      <th>swe</th>\n",
              "      <td>46171</td>\n",
              "    </tr>\n",
              "    <tr>\n",
              "      <th>tha</th>\n",
              "      <td>4617</td>\n",
              "    </tr>\n",
              "    <tr>\n",
              "      <th>tur</th>\n",
              "      <td>717173</td>\n",
              "    </tr>\n",
              "    <tr>\n",
              "      <th>ukr</th>\n",
              "      <td>177839</td>\n",
              "    </tr>\n",
              "    <tr>\n",
              "      <th>vie</th>\n",
              "      <td>20867</td>\n",
              "    </tr>\n",
              "    <tr>\n",
              "      <th>zho</th>\n",
              "      <td>85041</td>\n",
              "    </tr>\n",
              "  </tbody>\n",
              "</table>\n",
              "</div>"
            ],
            "text/plain": [
              "      content\n",
              "lang         \n",
              "ara     42128\n",
              "ber    589554\n",
              "bul     24521\n",
              "ces     63225\n",
              "dan     53561\n",
              "deu    581093\n",
              "ell     34791\n",
              "eng   1572075\n",
              "est      3686\n",
              "fas     24783\n",
              "fin    138867\n",
              "fra    497104\n",
              "gle      2645\n",
              "hbs     51059\n",
              "heb    198222\n",
              "hin     14559\n",
              "hun    353702\n",
              "hye      2249\n",
              "ita    802842\n",
              "jpn    218894\n",
              "kab    513886\n",
              "kor      8947\n",
              "lat     41116\n",
              "lav      3048\n",
              "mkd     77945\n",
              "nld    154128\n",
              "nor     15868\n",
              "pol    115926\n",
              "por    394187\n",
              "ron     26538\n",
              "rus    903431\n",
              "slk     16759\n",
              "spa    367512\n",
              "swa       591\n",
              "swe     46171\n",
              "tha      4617\n",
              "tur    717173\n",
              "ukr    177839\n",
              "vie     20867\n",
              "zho     85041"
            ]
          },
          "execution_count": 8,
          "metadata": {},
          "output_type": "execute_result"
        }
      ],
      "source": [
        "\n",
        "#df = pd.concat([df,reduced0,reduced1,reduced2])\n",
        "\n",
        "df.groupby(['lang']).count()"
      ]
    },
    {
      "cell_type": "code",
      "execution_count": 10,
      "metadata": {
        "id": "KePU8Xev5rCg"
      },
      "outputs": [],
      "source": [
        "df.to_pickle('./data/data.pkl')"
      ]
    }
  ],
  "metadata": {
    "colab": {
      "authorship_tag": "ABX9TyNJgHD4+ulXrWtgyJ/sg5PK",
      "collapsed_sections": [],
      "include_colab_link": true,
      "name": "data_pre-processing.ipynb",
      "provenance": []
    },
    "kernelspec": {
      "display_name": "Python 3",
      "name": "python3"
    },
    "language_info": {
      "codemirror_mode": {
        "name": "ipython",
        "version": 3
      },
      "file_extension": ".py",
      "mimetype": "text/x-python",
      "name": "python",
      "nbconvert_exporter": "python",
      "pygments_lexer": "ipython3",
      "version": "3.9.7"
    }
  },
  "nbformat": 4,
  "nbformat_minor": 0
}
